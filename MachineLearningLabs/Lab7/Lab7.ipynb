{
 "cells": [
  {
   "cell_type": "markdown",
   "metadata": {
    "collapsed": true
   },
   "source": [
    "# Lab Assignment Seven: Recurrent Network Architectures\n",
    "\n",
    "### *Michael Han, Andrew Kozelsky, Vince Miller, Ryan Cole*\n",
    "\n",
    "\n",
    "# Dataset Selection\n",
    "We selected a dataset that consisted of all tweets during 2012 that contained the word claritin. These tweets were given a sentiment value between 1 and 5. A high sentiment score meant that the tweet was positive and low score meant the tweet was negative. A score of 3 gave a neutral sentiment.\n",
    "\n",
    "\n",
    "# Business Case\n",
    "A tool that correctly predicts sentiment of tweets for the company that produces claritin could be used to give feedback on the product in realtime e.g. a clatritin ad compaign is released to many different markets during the superbowl, if the model can correctly predict the sentiment of each ad during the first half the ad with the highest sentiment could be played during the second half to all markets. \n",
    "\n",
    "# Preparation"
   ]
  },
  {
   "cell_type": "markdown",
   "metadata": {},
   "source": [
    "* [10 points] Define and prepare your class variables. Use proper variable representations (int, float, one-hot, etc.). Use pre-processing methods (as needed). Describe the final dataset that is used for classification/regression (include a description of any newly formed variables you created). Discuss methods of tokenization in your dataset as well as any decisions to force a specific length of sequence. "
   ]
  },
  {
   "cell_type": "code",
   "execution_count": 26,
   "metadata": {},
   "outputs": [],
   "source": [
    "import keras\n",
    "import cv2\n",
    "import os\n",
    "import numpy as np\n",
    "import pandas as pd\n",
    "import matplotlib.pyplot as plt\n",
    "%matplotlib inline\n",
    "from sklearn.model_selection import train_test_split\n",
    "from sklearn.model_selection import StratifiedKFold\n",
    "from sklearn.model_selection import StratifiedShuffleSplit\n",
    "from sklearn.preprocessing import LabelEncoder\n",
    "from sklearn.metrics import accuracy_score, precision_score\n",
    "import seaborn as sns\n",
    "\n",
    "from keras.preprocessing.sequence import pad_sequences\n",
    "from keras.preprocessing.text import Tokenizer\n",
    "from keras.preprocessing import sequence"
   ]
  },
  {
   "cell_type": "code",
   "execution_count": 117,
   "metadata": {},
   "outputs": [],
   "source": [
    "#Plot training and validation losses \n",
    "def plot_losses(model, model_name):\n",
    "    plt.figure(figsize=(10,4))\n",
    "    plt.subplot(1,2,1)\n",
    "    plt.plot(model.history.history['loss'])\n",
    "    plt.title(model_name + ' Training Loss')\n",
    "    plt.ylabel('Training Loss')\n",
    "    plt.xlabel('epochs')\n",
    "    plt.subplot(1,2,2)\n",
    "    plt.plot(model.history.history['val_loss'])\n",
    "    plt.title(model_name + ' Validation Loss')\n",
    "    plt.ylabel('Validation Loss')\n",
    "    plt.xlabel('epochs')\n",
    "    plt.show()\n",
    "    \n",
    "## Using Summarize_net from larson's notes\n",
    "def summarize_net(net, X_test, y_test, title_text=''):\n",
    "    import sklearn.metrics as mt\n",
    "    import seaborn as sns\n",
    "    plt.figure(figsize=(15,5))\n",
    "    yhat = np.argmax(net.predict(X_test), axis=1)\n",
    "    precision = mt.precision_score(y_pred=yhat,y_true= y_test)\n",
    "    accuracy = mt.accuracy_score(y_pred=yhat, y_true=y_test)\n",
    "    cm = mt.confusion_matrix(y_pred=yhat,y_true=y_test)\n",
    "    #cm = cm/np.sum(cm,axis=1)[:,np.newaxis]\n",
    "    sns.heatmap(cm, annot=True, fmt='.2f')\n",
    "    plt.title((title_text, 'accuracy:', accuracy, 'precision:', precision))\n",
    "    \n",
    "def train_model_cv(this_model, X_train, y_train_int, y_train_ohe, X_test, y_test_ohe, folds=5, weights=None):\n",
    "    # set shuffler settings \n",
    "    shuffler = StratifiedKFold(n_splits=folds, shuffle = True)\n",
    "\n",
    "    i = 0\n",
    "    manual_history = {}\n",
    "    manual_history['loss'] = []\n",
    "    manual_history['val_loss'] = []\n",
    "    accuracy = []\n",
    "    precis = []\n",
    "    \n",
    "    # generates a set of train and test indices based on the number of folds (i.e. splits) selected\n",
    "    for train_index, test_index in shuffler.split(X_train, y_train_int): \n",
    "        i += 1\n",
    "        print('holding fold {} out'.format(i))\n",
    "        this_model.load_weights(weights)\n",
    "        this_model.fit(X_train[train_index], y_train_ohe[train_index], \n",
    "            epochs=30, \n",
    "            batch_size=32, \n",
    "            validation_data=(X_train[test_index], y_train_ohe[test_index]),\n",
    "            shuffle=True, \n",
    "            verbose=1, \n",
    "            callbacks=[EarlyStopping(monitor='val_loss', patience=4)]) ## early stopping after val_loss decreases after 4\n",
    "        manual_history['loss'] = manual_history['loss'] + this_model.history.history['loss']\n",
    "        manual_history['val_loss'] = manual_history['val_loss'] + this_model.history.history['val_loss']\n",
    "        accuracy.append(accuracy_score(y_pred=np.argmax(this_model.predict(X_test), axis=1),y_true= y_test_ohe.argmax(1)))\n",
    "        precis.append(precision_score(y_pred=np.argmax(this_model.predict(X_test), axis=1), y_true=y_test_ohe.argmax(1)))\n",
    "        \n",
    "    \n",
    "    return manual_history, accuracy, precis"
   ]
  },
  {
   "cell_type": "code",
   "execution_count": 118,
   "metadata": {
    "collapsed": true
   },
   "outputs": [],
   "source": [
    "# read in dataset\n",
    "df = pd.read_csv(r'..\\1384367161_claritin_october_twitter_side_effects-1.csv', encoding='latin-1')\n",
    "# subset relevent information\n",
    "df = df[['content','relevant','sentiment']]\n",
    "# drop rows with na for sentiment\n",
    "df = df.dropna(subset=['sentiment'])"
   ]
  },
  {
   "cell_type": "code",
   "execution_count": 119,
   "metadata": {},
   "outputs": [
    {
     "name": "stdout",
     "output_type": "stream",
     "text": [
      "Found 7831 unique tokens from 65404 total words. Distilled to 7831 top words.\n",
      "Shape of data tensor: (4663, 91)\n",
      "Shape of label tensor: (4663, 2)\n",
      "7831\n"
     ]
    }
   ],
   "source": [
    "# tokenizer settings\n",
    "NUM_TOP_WORDS = None\n",
    "\n",
    "# fit tokenizer\n",
    "tokenizer = Tokenizer(num_words=NUM_TOP_WORDS)\n",
    "tokenizer.fit_on_texts(df['content'])\n",
    "sequences = tokenizer.texts_to_sequences(df['content'])\n",
    "\n",
    "# max art len\n",
    "MAX_ART_LEN = max(pd.Series(sequences).apply(lambda x: len(x)))\n",
    "\n",
    "# word count\n",
    "word_index = tokenizer.word_index\n",
    "NUM_TOP_WORDS = len(word_index) if NUM_TOP_WORDS==None else NUM_TOP_WORDS\n",
    "top_words = min((len(word_index),NUM_TOP_WORDS))\n",
    "print('Found %s unique tokens from %s total words. Distilled to %d top words.' % (len(word_index),sum(pd.Series(sequences).apply(lambda x: len(x))),top_words))\n",
    "\n",
    "# pad\n",
    "X = pad_sequences(sequences, maxlen=MAX_ART_LEN)\n",
    "\n",
    "# map to three classes 1, 2, 3\n",
    "df['sentiment'] = np.select([df['sentiment'] < 3,df['sentiment'] >= 3], [0, 1])\n",
    " \n",
    "\n",
    "# encode target\n",
    "y_ohe = keras.utils.to_categorical(np.array(df['sentiment']),dtype='int64')\n",
    "print('Shape of data tensor:', X.shape)\n",
    "print('Shape of label tensor:', y_ohe.shape)\n",
    "print(np.max(X))\n",
    "\n",
    "# Split it into train / test subsets\n",
    "X_train, X_test, y_train_ohe, y_test_ohe = train_test_split(X, y_ohe, test_size=0.2,\n",
    "                                                            stratify=np.array(df['sentiment']), \n",
    "                                                            random_state=42)\n",
    "# for evaluation\n",
    "y_train_int = y_train_ohe.argmax(1)"
   ]
  },
  {
   "cell_type": "markdown",
   "metadata": {},
   "source": [
    "All of the tweets were converted to vectors via tokenization. Each vector was padded to length 91 because the longest tweet contained 91 tokens. Above it can be seen that there were 7831 unique words in our dataset. Below a breakdown of our supervisor variable can be seen."
   ]
  },
  {
   "cell_type": "code",
   "execution_count": 120,
   "metadata": {},
   "outputs": [
    {
     "data": {
      "image/png": "[encoded data removed]",
      "text/plain": [
       "<matplotlib.figure.Figure at 0x20cc5c37c18>"
      ]
     },
     "metadata": {},
     "output_type": "display_data"
    }
   ],
   "source": [
    "sns.countplot(df['sentiment'])\n",
    "plt.title('Sentiment for Claritin Tweets')\n",
    "plt.show()"
   ]
  },
  {
   "cell_type": "markdown",
   "metadata": {},
   "source": [
    "Above is a breakdown of the variable for the classificaiton task. The variable was created by grouping the tweets with sentiment >= 3 and < 3. This was done because the neutral tweets appeared similar to the positive tweets via inspection. This makes sense from a business  case perspective because it makes the group in which the negative tweets are categorized more homogenous."
   ]
  },
  {
   "cell_type": "markdown",
   "metadata": {},
   "source": [
    "* [10 points] Choose and explain what metric(s) you will use to evaluate your algorithm’s performance. You should give a detailed argument for why this (these) metric(s) are appropriate on your data. That is, why is the metric appropriate for the task (e.g., in terms of the business case for the task). Please note: rarely is accuracy the best evaluation metric to use. Think deeply about an appropriate measure of performance."
   ]
  },
  {
   "cell_type": "markdown",
   "metadata": {},
   "source": [
    "For our classification task the team will mainly be concerned with accuracy. A high overall accuracy would give confidence that the classifier can correctly predict both classes making the model useful for the business case described above. As a secondary metric the team will be cognizant of the precision. The classifier's precision will need to be considered because if the model classifies negative tweets incorrectly as positive this would make the action items related to the described business plan incorrect."
   ]
  },
  {
   "cell_type": "markdown",
   "metadata": {},
   "source": [
    "* [10 points] Choose the method you will use for dividing your data into training and testing (i.e., are you using Stratified 10-fold cross validation? Shuffle splits? Why?). Explain why your chosen method is appropriate or use more than one method as appropriate. Convince me that your cross validation method is a realistic mirroring of how an algorithm would be used in practice. "
   ]
  },
  {
   "cell_type": "markdown",
   "metadata": {},
   "source": [
    "## Model Asssessment / Cross-Validation\n",
    "The team will use stratified shuffle split when cross validating. The stratification will be used to help the model learn since the supervisor is imbalanced. Shuffling will be used because tweets occur linearly. The shuffling will ensure that the train and test split is not dependent on an oustide event that could have changed the tweets over time.\n",
    "\n",
    "The stratified shuffle split will then be used to perform 5-fold cross validation to provide a better assessment of the performance of our model. To avoid inaccurate estimates of model performance, the weights of the model must be reset at the beginning of each iteration. If we do not do this, it is likely that data the model has previously been trained with will be included in the validation set used to assess performance in that iteration. After each iteration accuracy and precision will be calculated. An LSTM will be compared to GRU rnn via these two metrics with a two sample ttest.\n",
    "\n",
    "Next, the best model will have it's parameters adjusted to see if there is any improvment. The improvment will be measured the same way as described above.\n",
    "\n",
    "After selecting the model that performs best the model will be fit to the entire dataset using pretrained as well as model trained embeddings. These two can be compared via the t-test as well. Once this test is complete different architecture i.e. number of layers will be attempted to see if performance is improved."
   ]
  },
  {
   "cell_type": "markdown",
   "metadata": {},
   "source": [
    "# Modeling\n",
    "* [20 points] Investigate at least two different recurrent network architectures (perhaps LSTM and GRU). Be sure to use an embedding layer (pre-trained, from scratch, or both). Adjust hyper-parameters of the networks as needed to improve generalization performance. "
   ]
  },
  {
   "cell_type": "code",
   "execution_count": 121,
   "metadata": {},
   "outputs": [
    {
     "name": "stdout",
     "output_type": "stream",
     "text": [
      "_________________________________________________________________\n",
      "Layer (type)                 Output Shape              Param #   \n",
      "=================================================================\n",
      "input_7 (InputLayer)         (None, 91)                0         \n",
      "_________________________________________________________________\n",
      "embedding_8 (Embedding)      (None, 91, 50)            391600    \n",
      "_________________________________________________________________\n",
      "lstm_2 (LSTM)                (None, 25)                7600      \n",
      "_________________________________________________________________\n",
      "dense_8 (Dense)              (None, 2)                 52        \n",
      "=================================================================\n",
      "Total params: 399,252\n",
      "Trainable params: 399,252\n",
      "Non-trainable params: 0\n",
      "_________________________________________________________________\n",
      "None\n"
     ]
    }
   ],
   "source": [
    "# show example without the FOR loop\n",
    "from keras.models import Sequential, Input, Model\n",
    "from keras.layers import Dense\n",
    "from keras.layers import LSTM, GRU\n",
    "from keras.layers.embeddings import Embedding\n",
    "from keras.callbacks import EarlyStopping\n",
    "\n",
    "\n",
    "NUM_CLASSES = 2\n",
    "top_words = 7832\n",
    "EMBED_SIZE = 50\n",
    "rnns = []\n",
    "input_holder = Input(shape=(X_train.shape[1], ))\n",
    "input_embed = Embedding(top_words, # input dimension (max int of OHE)\n",
    "                EMBED_SIZE, # output dimension size\n",
    "                input_length=MAX_ART_LEN)(input_holder) # number of words in each sequence\n",
    "\n",
    "\n",
    "x = LSTM(25,dropout=0.2, recurrent_dropout=0.2)(input_embed)\n",
    "x = Dense(NUM_CLASSES, activation='sigmoid')(x)\n",
    "rnn_LSTM=Model(inputs=input_holder,outputs=x)\n",
    "rnn_LSTM.compile(loss='binary_crossentropy', \n",
    "              optimizer='rmsprop', \n",
    "              metrics=['accuracy'])\n",
    "rnn_LSTM.save_weights('LSTM_weights.model')\n",
    "print(rnn_LSTM.summary())"
   ]
  },
  {
   "cell_type": "code",
   "execution_count": 122,
   "metadata": {},
   "outputs": [
    {
     "name": "stdout",
     "output_type": "stream",
     "text": [
      "_________________________________________________________________\n",
      "Layer (type)                 Output Shape              Param #   \n",
      "=================================================================\n",
      "input_8 (InputLayer)         (None, 91)                0         \n",
      "_________________________________________________________________\n",
      "embedding_9 (Embedding)      (None, 91, 50)            391600    \n",
      "_________________________________________________________________\n",
      "gru_6 (GRU)                  (None, 25)                5700      \n",
      "_________________________________________________________________\n",
      "dense_9 (Dense)              (None, 2)                 52        \n",
      "=================================================================\n",
      "Total params: 397,352\n",
      "Trainable params: 397,352\n",
      "Non-trainable params: 0\n",
      "_________________________________________________________________\n",
      "None\n"
     ]
    }
   ],
   "source": [
    "input_holder = Input(shape=(X_train.shape[1], ))\n",
    "input_embed = Embedding(top_words, # input dimension (max int of OHE)\n",
    "                EMBED_SIZE, # output dimension size\n",
    "                input_length=MAX_ART_LEN)(input_holder) # number of words in each sequence\n",
    "\n",
    "\n",
    "x = GRU(25,dropout=0.2, recurrent_dropout=0.2)(input_embed)\n",
    "x = Dense(NUM_CLASSES, activation='sigmoid')(x)\n",
    "rnn_GRU=Model(inputs=input_holder,outputs=x)\n",
    "rnn_GRU.compile(loss='binary_crossentropy', \n",
    "              optimizer='rmsprop', \n",
    "              metrics=['accuracy'])\n",
    "rnn_GRU.save_weights('GRU_weights.model')\n",
    "print(rnn_GRU.summary())"
   ]
  },
  {
   "cell_type": "code",
   "execution_count": 123,
   "metadata": {},
   "outputs": [
    {
     "data": {
      "image/svg+xml": [
       "<svg height=\"264pt\" viewBox=\"0.00 0.00 175.00 264.00\" width=\"175pt\" xmlns=\"http://www.w3.org/2000/svg\" xmlns:xlink=\"http://www.w3.org/1999/xlink\">\n",
       "<g class=\"graph\" id=\"graph0\" transform=\"scale(1 1) rotate(0) translate(4 260)\">\n",
       "<title>G</title>\n",
       "<polygon fill=\"white\" points=\"-4,4 -4,-260 171,-260 171,4 -4,4\" stroke=\"none\"/>\n",
       "<!-- 2253174594584 -->\n",
       "<g class=\"node\" id=\"node1\"><title>2253174594584</title>\n",
       "<polygon fill=\"none\" points=\"20.5,-219.5 20.5,-255.5 146.5,-255.5 146.5,-219.5 20.5,-219.5\" stroke=\"black\"/>\n",
       "<text font-family=\"Times New Roman,serif\" font-size=\"14.00\" text-anchor=\"middle\" x=\"83.5\" y=\"-233.8\">input_1: InputLayer</text>\n",
       "</g>\n",
       "<!-- 2253174594752 -->\n",
       "<g class=\"node\" id=\"node2\"><title>2253174594752</title>\n",
       "<polygon fill=\"none\" points=\"2,-146.5 2,-182.5 165,-182.5 165,-146.5 2,-146.5\" stroke=\"black\"/>\n",
       "<text font-family=\"Times New Roman,serif\" font-size=\"14.00\" text-anchor=\"middle\" x=\"83.5\" y=\"-160.8\">embedding_1: Embedding</text>\n",
       "</g>\n",
       "<!-- 2253174594584&#45;&gt;2253174594752 -->\n",
       "<g class=\"edge\" id=\"edge1\"><title>2253174594584-&gt;2253174594752</title>\n",
       "<path d=\"M83.5,-219.313C83.5,-211.289 83.5,-201.547 83.5,-192.569\" fill=\"none\" stroke=\"black\"/>\n",
       "<polygon fill=\"black\" points=\"87.0001,-192.529 83.5,-182.529 80.0001,-192.529 87.0001,-192.529\" stroke=\"black\"/>\n",
       "</g>\n",
       "<!-- 2253174711296 -->\n",
       "<g class=\"node\" id=\"node3\"><title>2253174711296</title>\n",
       "<polygon fill=\"none\" points=\"0,-73.5 0,-109.5 167,-109.5 167,-73.5 0,-73.5\" stroke=\"black\"/>\n",
       "<text font-family=\"Times New Roman,serif\" font-size=\"14.00\" text-anchor=\"middle\" x=\"83.5\" y=\"-87.8\">simple_rnn_1: SimpleRNN</text>\n",
       "</g>\n",
       "<!-- 2253174594752&#45;&gt;2253174711296 -->\n",
       "<g class=\"edge\" id=\"edge2\"><title>2253174594752-&gt;2253174711296</title>\n",
       "<path d=\"M83.5,-146.313C83.5,-138.289 83.5,-128.547 83.5,-119.569\" fill=\"none\" stroke=\"black\"/>\n",
       "<polygon fill=\"black\" points=\"87.0001,-119.529 83.5,-109.529 80.0001,-119.529 87.0001,-119.529\" stroke=\"black\"/>\n",
       "</g>\n",
       "<!-- 2253174594640 -->\n",
       "<g class=\"node\" id=\"node4\"><title>2253174594640</title>\n",
       "<polygon fill=\"none\" points=\"31.5,-0.5 31.5,-36.5 135.5,-36.5 135.5,-0.5 31.5,-0.5\" stroke=\"black\"/>\n",
       "<text font-family=\"Times New Roman,serif\" font-size=\"14.00\" text-anchor=\"middle\" x=\"83.5\" y=\"-14.8\">dense_1: Dense</text>\n",
       "</g>\n",
       "<!-- 2253174711296&#45;&gt;2253174594640 -->\n",
       "<g class=\"edge\" id=\"edge3\"><title>2253174711296-&gt;2253174594640</title>\n",
       "<path d=\"M83.5,-73.3129C83.5,-65.2895 83.5,-55.5475 83.5,-46.5691\" fill=\"none\" stroke=\"black\"/>\n",
       "<polygon fill=\"black\" points=\"87.0001,-46.5288 83.5,-36.5288 80.0001,-46.5289 87.0001,-46.5288\" stroke=\"black\"/>\n",
       "</g>\n",
       "</g>\n",
       "</svg>"
      ],
      "text/plain": [
       "<IPython.core.display.SVG object>"
      ]
     },
     "execution_count": 123,
     "metadata": {},
     "output_type": "execute_result"
    }
   ],
   "source": [
    "from IPython.display import SVG\n",
    "from keras.utils.vis_utils import model_to_dot\n",
    "\n",
    "# vis\n",
    "SVG(model_to_dot(rnn).create(prog='dot', format='svg'))"
   ]
  },
  {
   "cell_type": "code",
   "execution_count": 124,
   "metadata": {},
   "outputs": [
    {
     "name": "stdout",
     "output_type": "stream",
     "text": [
      "holding fold 1 out\n",
      "Train on 3356 samples, validate on 374 samples\n",
      "Epoch 1/30\n",
      "3356/3356 [==============================] - 9s 3ms/step - loss: 0.4495 - acc: 0.8400 - val_loss: 0.4147 - val_acc: 0.8422\n",
      "Epoch 2/30\n",
      "3356/3356 [==============================] - 7s 2ms/step - loss: 0.3639 - acc: 0.8449 - val_loss: 0.3804 - val_acc: 0.8422\n",
      "Epoch 3/30\n",
      "3356/3356 [==============================] - 7s 2ms/step - loss: 0.3047 - acc: 0.8643 - val_loss: 0.3770 - val_acc: 0.8596\n",
      "Epoch 4/30\n",
      "3356/3356 [==============================] - 7s 2ms/step - loss: 0.2700 - acc: 0.8845 - val_loss: 0.3915 - val_acc: 0.8529\n",
      "Epoch 5/30\n",
      "3356/3356 [==============================] - 7s 2ms/step - loss: 0.2331 - acc: 0.9061 - val_loss: 0.4005 - val_acc: 0.8556\n",
      "Epoch 6/30\n",
      "3356/3356 [==============================] - 7s 2ms/step - loss: 0.2022 - acc: 0.9252 - val_loss: 0.4205 - val_acc: 0.8503\n",
      "Epoch 7/30\n",
      "3356/3356 [==============================] - 7s 2ms/step - loss: 0.1722 - acc: 0.9376 - val_loss: 0.4343 - val_acc: 0.8329\n",
      "holding fold 2 out\n",
      "Train on 3356 samples, validate on 374 samples\n",
      "Epoch 1/30\n",
      "3356/3356 [==============================] - 7s 2ms/step - loss: 0.4995 - acc: 0.8370 - val_loss: 0.4224 - val_acc: 0.8422\n",
      "Epoch 2/30\n",
      "3356/3356 [==============================] - 7s 2ms/step - loss: 0.3725 - acc: 0.8443 - val_loss: 0.3680 - val_acc: 0.8422\n",
      "Epoch 3/30\n",
      "3356/3356 [==============================] - 7s 2ms/step - loss: 0.3035 - acc: 0.8664 - val_loss: 0.3510 - val_acc: 0.8476\n",
      "Epoch 4/30\n",
      "3356/3356 [==============================] - 7s 2ms/step - loss: 0.2636 - acc: 0.8865 - val_loss: 0.3508 - val_acc: 0.8503\n",
      "Epoch 5/30\n",
      "3356/3356 [==============================] - 7s 2ms/step - loss: 0.2269 - acc: 0.9076 - val_loss: 0.3533 - val_acc: 0.8342\n",
      "Epoch 6/30\n",
      "3356/3356 [==============================] - 7s 2ms/step - loss: 0.2030 - acc: 0.9249 - val_loss: 0.3665 - val_acc: 0.8369\n",
      "Epoch 7/30\n",
      "3356/3356 [==============================] - 7s 2ms/step - loss: 0.1747 - acc: 0.9350 - val_loss: 0.3722 - val_acc: 0.8422\n",
      "Epoch 8/30\n",
      "3356/3356 [==============================] - 7s 2ms/step - loss: 0.1506 - acc: 0.9452 - val_loss: 0.3881 - val_acc: 0.8396\n",
      "holding fold 3 out\n",
      "Train on 3357 samples, validate on 373 samples\n",
      "Epoch 1/30\n",
      "3357/3357 [==============================] - 7s 2ms/step - loss: 0.5041 - acc: 0.8336 - val_loss: 0.4066 - val_acc: 0.8445\n",
      "Epoch 2/30\n",
      "3357/3357 [==============================] - 7s 2ms/step - loss: 0.3770 - acc: 0.8448 - val_loss: 0.3328 - val_acc: 0.8445\n",
      "Epoch 3/30\n",
      "3357/3357 [==============================] - 7s 2ms/step - loss: 0.3068 - acc: 0.8622 - val_loss: 0.3076 - val_acc: 0.8552\n",
      "Epoch 4/30\n",
      "3357/3357 [==============================] - 7s 2ms/step - loss: 0.2624 - acc: 0.8837 - val_loss: 0.3298 - val_acc: 0.8592\n",
      "Epoch 5/30\n",
      "3357/3357 [==============================] - 7s 2ms/step - loss: 0.2313 - acc: 0.9047 - val_loss: 0.3295 - val_acc: 0.8633\n",
      "Epoch 6/30\n",
      "3357/3357 [==============================] - 7s 2ms/step - loss: 0.2042 - acc: 0.9202 - val_loss: 0.3216 - val_acc: 0.8700\n",
      "Epoch 7/30\n",
      "3357/3357 [==============================] - 7s 2ms/step - loss: 0.1703 - acc: 0.9376 - val_loss: 0.3408 - val_acc: 0.8472\n",
      "holding fold 4 out\n",
      "Train on 3357 samples, validate on 373 samples\n",
      "Epoch 1/30\n",
      "3357/3357 [==============================] - 7s 2ms/step - loss: 0.5031 - acc: 0.8356 - val_loss: 0.4139 - val_acc: 0.8445\n",
      "Epoch 2/30\n",
      "3357/3357 [==============================] - 7s 2ms/step - loss: 0.3814 - acc: 0.8439 - val_loss: 0.3522 - val_acc: 0.8445\n",
      "Epoch 3/30\n",
      "3357/3357 [==============================] - 7s 2ms/step - loss: 0.3103 - acc: 0.8618 - val_loss: 0.3356 - val_acc: 0.8525\n",
      "Epoch 4/30\n",
      "3357/3357 [==============================] - 7s 2ms/step - loss: 0.2629 - acc: 0.8858 - val_loss: 0.3419 - val_acc: 0.8512\n",
      "Epoch 5/30\n",
      "3357/3357 [==============================] - 7s 2ms/step - loss: 0.2347 - acc: 0.9053 - val_loss: 0.3571 - val_acc: 0.8525\n",
      "Epoch 6/30\n",
      "3357/3357 [==============================] - 7s 2ms/step - loss: 0.1980 - acc: 0.9218 - val_loss: 0.3873 - val_acc: 0.8458\n",
      "Epoch 7/30\n",
      "3357/3357 [==============================] - 7s 2ms/step - loss: 0.1696 - acc: 0.9395 - val_loss: 0.4237 - val_acc: 0.8418\n",
      "holding fold 5 out\n",
      "Train on 3357 samples, validate on 373 samples\n",
      "Epoch 1/30\n",
      "3357/3357 [==============================] - 7s 2ms/step - loss: 0.5019 - acc: 0.8353 - val_loss: 0.4174 - val_acc: 0.8445\n",
      "Epoch 2/30\n",
      "3357/3357 [==============================] - 7s 2ms/step - loss: 0.3803 - acc: 0.8447 - val_loss: 0.3707 - val_acc: 0.8445\n",
      "Epoch 3/30\n",
      "3357/3357 [==============================] - 7s 2ms/step - loss: 0.3093 - acc: 0.8601 - val_loss: 0.3480 - val_acc: 0.8566\n",
      "Epoch 4/30\n",
      "3357/3357 [==============================] - 7s 2ms/step - loss: 0.2649 - acc: 0.8831 - val_loss: 0.3456 - val_acc: 0.8633\n",
      "Epoch 5/30\n",
      "3357/3357 [==============================] - 7s 2ms/step - loss: 0.2326 - acc: 0.9048 - val_loss: 0.3324 - val_acc: 0.8686\n",
      "Epoch 6/30\n",
      "3357/3357 [==============================] - 7s 2ms/step - loss: 0.2032 - acc: 0.9225 - val_loss: 0.3357 - val_acc: 0.8646\n",
      "Epoch 7/30\n",
      "3357/3357 [==============================] - 7s 2ms/step - loss: 0.1738 - acc: 0.9328 - val_loss: 0.3639 - val_acc: 0.8727\n",
      "Epoch 8/30\n",
      "3357/3357 [==============================] - 7s 2ms/step - loss: 0.1479 - acc: 0.9456 - val_loss: 0.3622 - val_acc: 0.8740\n",
      "Epoch 9/30\n",
      "3357/3357 [==============================] - 7s 2ms/step - loss: 0.1278 - acc: 0.9500 - val_loss: 0.3883 - val_acc: 0.8646\n",
      "holding fold 6 out\n",
      "Train on 3357 samples, validate on 373 samples\n",
      "Epoch 1/30\n",
      "3357/3357 [==============================] - 7s 2ms/step - loss: 0.5071 - acc: 0.8347 - val_loss: 0.4105 - val_acc: 0.8445\n",
      "Epoch 2/30\n",
      "3357/3357 [==============================] - 7s 2ms/step - loss: 0.3676 - acc: 0.8444 - val_loss: 0.3717 - val_acc: 0.8445\n",
      "Epoch 3/30\n",
      "3357/3357 [==============================] - 7s 2ms/step - loss: 0.3038 - acc: 0.8652 - val_loss: 0.3585 - val_acc: 0.8552\n",
      "Epoch 4/30\n",
      "3357/3357 [==============================] - 7s 2ms/step - loss: 0.2596 - acc: 0.8896 - val_loss: 0.3678 - val_acc: 0.8552\n",
      "Epoch 5/30\n",
      "3357/3357 [==============================] - 7s 2ms/step - loss: 0.2235 - acc: 0.9093 - val_loss: 0.3835 - val_acc: 0.8365\n",
      "Epoch 6/30\n",
      "3357/3357 [==============================] - 7s 2ms/step - loss: 0.1924 - acc: 0.9275 - val_loss: 0.4145 - val_acc: 0.8485\n",
      "Epoch 7/30\n",
      "3357/3357 [==============================] - 7s 2ms/step - loss: 0.1637 - acc: 0.9374 - val_loss: 0.4202 - val_acc: 0.8150\n",
      "holding fold 7 out\n",
      "Train on 3357 samples, validate on 373 samples\n",
      "Epoch 1/30\n",
      "3357/3357 [==============================] - 8s 2ms/step - loss: 0.5122 - acc: 0.8353 - val_loss: 0.4138 - val_acc: 0.8445\n",
      "Epoch 2/30\n",
      "3357/3357 [==============================] - 7s 2ms/step - loss: 0.3810 - acc: 0.8441 - val_loss: 0.3387 - val_acc: 0.8445\n",
      "Epoch 3/30\n",
      "3357/3357 [==============================] - 7s 2ms/step - loss: 0.3117 - acc: 0.8597 - val_loss: 0.3197 - val_acc: 0.8646\n",
      "Epoch 4/30\n",
      "3357/3357 [==============================] - 7s 2ms/step - loss: 0.2684 - acc: 0.8837 - val_loss: 0.3154 - val_acc: 0.8673\n",
      "Epoch 5/30\n",
      "3357/3357 [==============================] - 7s 2ms/step - loss: 0.2349 - acc: 0.9014 - val_loss: 0.3268 - val_acc: 0.8673\n",
      "Epoch 6/30\n",
      "3357/3357 [==============================] - 7s 2ms/step - loss: 0.1962 - acc: 0.9279 - val_loss: 0.3600 - val_acc: 0.8794\n",
      "Epoch 7/30\n",
      "3357/3357 [==============================] - 7s 2ms/step - loss: 0.1668 - acc: 0.9389 - val_loss: 0.3701 - val_acc: 0.8780\n",
      "Epoch 8/30\n",
      "3357/3357 [==============================] - 7s 2ms/step - loss: 0.1464 - acc: 0.9486 - val_loss: 0.3866 - val_acc: 0.8713\n",
      "holding fold 8 out\n",
      "Train on 3357 samples, validate on 373 samples\n",
      "Epoch 1/30\n",
      "3357/3357 [==============================] - 7s 2ms/step - loss: 0.5186 - acc: 0.8348 - val_loss: 0.4169 - val_acc: 0.8445\n",
      "Epoch 2/30\n",
      "3357/3357 [==============================] - 7s 2ms/step - loss: 0.3696 - acc: 0.8447 - val_loss: 0.3496 - val_acc: 0.8458\n",
      "Epoch 3/30\n",
      "3357/3357 [==============================] - 7s 2ms/step - loss: 0.3059 - acc: 0.8609 - val_loss: 0.3330 - val_acc: 0.8566\n",
      "Epoch 4/30\n",
      "3357/3357 [==============================] - 7s 2ms/step - loss: 0.2649 - acc: 0.8890 - val_loss: 0.3135 - val_acc: 0.8592\n",
      "Epoch 5/30\n"
     ]
    },
    {
     "name": "stdout",
     "output_type": "stream",
     "text": [
      "3357/3357 [==============================] - 7s 2ms/step - loss: 0.2312 - acc: 0.9068 - val_loss: 0.3124 - val_acc: 0.8606\n",
      "Epoch 6/30\n",
      "3357/3357 [==============================] - 7s 2ms/step - loss: 0.2009 - acc: 0.9243 - val_loss: 0.3226 - val_acc: 0.8445\n",
      "Epoch 7/30\n",
      "3357/3357 [==============================] - 7s 2ms/step - loss: 0.1714 - acc: 0.9371 - val_loss: 0.3231 - val_acc: 0.8646\n",
      "Epoch 8/30\n",
      "3357/3357 [==============================] - 7s 2ms/step - loss: 0.1463 - acc: 0.9456 - val_loss: 0.3287 - val_acc: 0.8606\n",
      "Epoch 9/30\n",
      "3357/3357 [==============================] - 7s 2ms/step - loss: 0.1245 - acc: 0.9578 - val_loss: 0.3674 - val_acc: 0.8579\n",
      "holding fold 9 out\n",
      "Train on 3358 samples, validate on 372 samples\n",
      "Epoch 1/30\n",
      "3358/3358 [==============================] - 8s 2ms/step - loss: 0.5046 - acc: 0.8347 - val_loss: 0.4099 - val_acc: 0.8441\n",
      "Epoch 2/30\n",
      "3358/3358 [==============================] - 7s 2ms/step - loss: 0.3785 - acc: 0.8440 - val_loss: 0.3346 - val_acc: 0.8414\n",
      "Epoch 3/30\n",
      "3358/3358 [==============================] - 7s 2ms/step - loss: 0.3121 - acc: 0.8609 - val_loss: 0.3139 - val_acc: 0.8589\n",
      "Epoch 4/30\n",
      "3358/3358 [==============================] - 7s 2ms/step - loss: 0.2668 - acc: 0.8815 - val_loss: 0.3120 - val_acc: 0.8763\n",
      "Epoch 5/30\n",
      "3358/3358 [==============================] - 7s 2ms/step - loss: 0.2376 - acc: 0.9040 - val_loss: 0.3187 - val_acc: 0.8656\n",
      "Epoch 6/30\n",
      "3358/3358 [==============================] - 7s 2ms/step - loss: 0.2040 - acc: 0.9208 - val_loss: 0.3427 - val_acc: 0.8683\n",
      "Epoch 7/30\n",
      "3358/3358 [==============================] - 7s 2ms/step - loss: 0.1772 - acc: 0.9351 - val_loss: 0.3533 - val_acc: 0.8629\n",
      "Epoch 8/30\n",
      "3358/3358 [==============================] - 7s 2ms/step - loss: 0.1516 - acc: 0.9461 - val_loss: 0.3762 - val_acc: 0.8683\n",
      "holding fold 10 out\n",
      "Train on 3358 samples, validate on 372 samples\n",
      "Epoch 1/30\n",
      "3358/3358 [==============================] - 7s 2ms/step - loss: 0.5072 - acc: 0.8355 - val_loss: 0.4114 - val_acc: 0.8441\n",
      "Epoch 2/30\n",
      "3358/3358 [==============================] - 7s 2ms/step - loss: 0.3757 - acc: 0.8450 - val_loss: 0.3588 - val_acc: 0.8454\n",
      "Epoch 3/30\n",
      "3358/3358 [==============================] - 7s 2ms/step - loss: 0.3048 - acc: 0.8621 - val_loss: 0.3503 - val_acc: 0.8468\n",
      "Epoch 4/30\n",
      "3358/3358 [==============================] - 7s 2ms/step - loss: 0.2641 - acc: 0.8880 - val_loss: 0.3617 - val_acc: 0.8522\n",
      "Epoch 5/30\n",
      "3358/3358 [==============================] - 7s 2ms/step - loss: 0.2323 - acc: 0.9068 - val_loss: 0.3717 - val_acc: 0.8401\n",
      "Epoch 6/30\n",
      "3358/3358 [==============================] - 7s 2ms/step - loss: 0.1975 - acc: 0.9276 - val_loss: 0.5056 - val_acc: 0.8441\n",
      "Epoch 7/30\n",
      "3358/3358 [==============================] - 7s 2ms/step - loss: 0.1697 - acc: 0.9360 - val_loss: 0.4176 - val_acc: 0.8387\n"
     ]
    }
   ],
   "source": [
    "history_LSTM = train_model_cv(rnn_LSTM, X_train, y_train_int, y_train_ohe, X_test, y_test_ohe, folds=10, weights='LSTM_weights.model')"
   ]
  },
  {
   "cell_type": "code",
   "execution_count": 125,
   "metadata": {},
   "outputs": [
    {
     "name": "stdout",
     "output_type": "stream",
     "text": [
      "holding fold 1 out\n",
      "Train on 3356 samples, validate on 374 samples\n",
      "Epoch 1/30\n",
      "3356/3356 [==============================] - 7s 2ms/step - loss: 0.4423 - acc: 0.8410 - val_loss: 0.3652 - val_acc: 0.8422\n",
      "Epoch 2/30\n",
      "3356/3356 [==============================] - 6s 2ms/step - loss: 0.3430 - acc: 0.8495 - val_loss: 0.3500 - val_acc: 0.8449\n",
      "Epoch 3/30\n",
      "3356/3356 [==============================] - 6s 2ms/step - loss: 0.2962 - acc: 0.8746 - val_loss: 0.3360 - val_acc: 0.8356\n",
      "Epoch 4/30\n",
      "3356/3356 [==============================] - 6s 2ms/step - loss: 0.2547 - acc: 0.8950 - val_loss: 0.3467 - val_acc: 0.8489\n",
      "Epoch 5/30\n",
      "3356/3356 [==============================] - 6s 2ms/step - loss: 0.2197 - acc: 0.9148 - val_loss: 0.3581 - val_acc: 0.8650\n",
      "Epoch 6/30\n",
      "3356/3356 [==============================] - 6s 2ms/step - loss: 0.1934 - acc: 0.9258 - val_loss: 0.3685 - val_acc: 0.8610\n",
      "Epoch 7/30\n",
      "3356/3356 [==============================] - 6s 2ms/step - loss: 0.1562 - acc: 0.9435 - val_loss: 0.4012 - val_acc: 0.8476\n",
      "holding fold 2 out\n",
      "Train on 3356 samples, validate on 374 samples\n",
      "Epoch 1/30\n",
      "3356/3356 [==============================] - 6s 2ms/step - loss: 0.4868 - acc: 0.8369 - val_loss: 0.3787 - val_acc: 0.8422\n",
      "Epoch 2/30\n",
      "3356/3356 [==============================] - 6s 2ms/step - loss: 0.3478 - acc: 0.8479 - val_loss: 0.3671 - val_acc: 0.8436\n",
      "Epoch 3/30\n",
      "3356/3356 [==============================] - 6s 2ms/step - loss: 0.2977 - acc: 0.8689 - val_loss: 0.3705 - val_acc: 0.8503\n",
      "Epoch 4/30\n",
      "3356/3356 [==============================] - 6s 2ms/step - loss: 0.2515 - acc: 0.8976 - val_loss: 0.3902 - val_acc: 0.8409\n",
      "Epoch 5/30\n",
      "3356/3356 [==============================] - 6s 2ms/step - loss: 0.2105 - acc: 0.9178 - val_loss: 0.4153 - val_acc: 0.8302\n",
      "Epoch 6/30\n",
      "3356/3356 [==============================] - 6s 2ms/step - loss: 0.1837 - acc: 0.9261 - val_loss: 0.4266 - val_acc: 0.8316\n",
      "holding fold 3 out\n",
      "Train on 3357 samples, validate on 373 samples\n",
      "Epoch 1/30\n",
      "3357/3357 [==============================] - 6s 2ms/step - loss: 0.4970 - acc: 0.8371 - val_loss: 0.3745 - val_acc: 0.8445\n",
      "Epoch 2/30\n",
      "3357/3357 [==============================] - 6s 2ms/step - loss: 0.3486 - acc: 0.8467 - val_loss: 0.3543 - val_acc: 0.8472\n",
      "Epoch 3/30\n",
      "3357/3357 [==============================] - 6s 2ms/step - loss: 0.2939 - acc: 0.8741 - val_loss: 0.3581 - val_acc: 0.8405\n",
      "Epoch 4/30\n",
      "3357/3357 [==============================] - 6s 2ms/step - loss: 0.2490 - acc: 0.8989 - val_loss: 0.3758 - val_acc: 0.8204\n",
      "Epoch 5/30\n",
      "3357/3357 [==============================] - 6s 2ms/step - loss: 0.2126 - acc: 0.9145 - val_loss: 0.4020 - val_acc: 0.8284\n",
      "Epoch 6/30\n",
      "3357/3357 [==============================] - 6s 2ms/step - loss: 0.1792 - acc: 0.9324 - val_loss: 0.4157 - val_acc: 0.8217\n",
      "holding fold 4 out\n",
      "Train on 3357 samples, validate on 373 samples\n",
      "Epoch 1/30\n",
      "3357/3357 [==============================] - 6s 2ms/step - loss: 0.4943 - acc: 0.8345 - val_loss: 0.3795 - val_acc: 0.8445\n",
      "Epoch 2/30\n",
      "3357/3357 [==============================] - 6s 2ms/step - loss: 0.3495 - acc: 0.8451 - val_loss: 0.3506 - val_acc: 0.8579\n",
      "Epoch 3/30\n",
      "3357/3357 [==============================] - 6s 2ms/step - loss: 0.2991 - acc: 0.8704 - val_loss: 0.3303 - val_acc: 0.8767\n",
      "Epoch 4/30\n",
      "3357/3357 [==============================] - 6s 2ms/step - loss: 0.2551 - acc: 0.8935 - val_loss: 0.3210 - val_acc: 0.8767\n",
      "Epoch 5/30\n",
      "3357/3357 [==============================] - 6s 2ms/step - loss: 0.2197 - acc: 0.9147 - val_loss: 0.3212 - val_acc: 0.8686\n",
      "Epoch 6/30\n",
      "3357/3357 [==============================] - 6s 2ms/step - loss: 0.1864 - acc: 0.9285 - val_loss: 0.3372 - val_acc: 0.8525\n",
      "Epoch 7/30\n",
      "3357/3357 [==============================] - 6s 2ms/step - loss: 0.1637 - acc: 0.9377 - val_loss: 0.3420 - val_acc: 0.8525\n",
      "Epoch 8/30\n",
      "3357/3357 [==============================] - 6s 2ms/step - loss: 0.1390 - acc: 0.9489 - val_loss: 0.3652 - val_acc: 0.8512\n",
      "holding fold 5 out\n",
      "Train on 3357 samples, validate on 373 samples\n",
      "Epoch 1/30\n",
      "3357/3357 [==============================] - 6s 2ms/step - loss: 0.4886 - acc: 0.8354 - val_loss: 0.3731 - val_acc: 0.8445\n",
      "Epoch 2/30\n",
      "3357/3357 [==============================] - 6s 2ms/step - loss: 0.3495 - acc: 0.8476 - val_loss: 0.3350 - val_acc: 0.8432\n",
      "Epoch 3/30\n",
      "3357/3357 [==============================] - 6s 2ms/step - loss: 0.2990 - acc: 0.8691 - val_loss: 0.3156 - val_acc: 0.8780\n",
      "Epoch 4/30\n",
      "3357/3357 [==============================] - 6s 2ms/step - loss: 0.2574 - acc: 0.8948 - val_loss: 0.3209 - val_acc: 0.8700\n",
      "Epoch 5/30\n",
      "3357/3357 [==============================] - 6s 2ms/step - loss: 0.2147 - acc: 0.9141 - val_loss: 0.3284 - val_acc: 0.8767\n",
      "Epoch 6/30\n",
      "3357/3357 [==============================] - 6s 2ms/step - loss: 0.1898 - acc: 0.9261 - val_loss: 0.3505 - val_acc: 0.8686\n",
      "Epoch 7/30\n",
      "3357/3357 [==============================] - 6s 2ms/step - loss: 0.1536 - acc: 0.9422 - val_loss: 0.3874 - val_acc: 0.8606\n",
      "holding fold 6 out\n",
      "Train on 3357 samples, validate on 373 samples\n",
      "Epoch 1/30\n",
      "3357/3357 [==============================] - 6s 2ms/step - loss: 0.4925 - acc: 0.8356 - val_loss: 0.3717 - val_acc: 0.8445\n",
      "Epoch 2/30\n",
      "3357/3357 [==============================] - 6s 2ms/step - loss: 0.3539 - acc: 0.8458 - val_loss: 0.3316 - val_acc: 0.8633\n",
      "Epoch 3/30\n",
      "3357/3357 [==============================] - 6s 2ms/step - loss: 0.3015 - acc: 0.8713 - val_loss: 0.3092 - val_acc: 0.8727\n",
      "Epoch 4/30\n",
      "3357/3357 [==============================] - 6s 2ms/step - loss: 0.2576 - acc: 0.8963 - val_loss: 0.3218 - val_acc: 0.8566\n",
      "Epoch 5/30\n",
      "3357/3357 [==============================] - 6s 2ms/step - loss: 0.2137 - acc: 0.9182 - val_loss: 0.3392 - val_acc: 0.8324\n",
      "Epoch 6/30\n",
      "3357/3357 [==============================] - 6s 2ms/step - loss: 0.1876 - acc: 0.9263 - val_loss: 0.3467 - val_acc: 0.8566\n",
      "Epoch 7/30\n",
      "3357/3357 [==============================] - 6s 2ms/step - loss: 0.1577 - acc: 0.9409 - val_loss: 0.3783 - val_acc: 0.8673\n",
      "holding fold 7 out\n",
      "Train on 3357 samples, validate on 373 samples\n",
      "Epoch 1/30\n",
      "3357/3357 [==============================] - 6s 2ms/step - loss: 0.4877 - acc: 0.8345 - val_loss: 0.3820 - val_acc: 0.8445\n",
      "Epoch 2/30\n",
      "3357/3357 [==============================] - 6s 2ms/step - loss: 0.3470 - acc: 0.8473 - val_loss: 0.3609 - val_acc: 0.8525\n",
      "Epoch 3/30\n",
      "3357/3357 [==============================] - 6s 2ms/step - loss: 0.2975 - acc: 0.8750 - val_loss: 0.3466 - val_acc: 0.8499\n",
      "Epoch 4/30\n",
      "3357/3357 [==============================] - 6s 2ms/step - loss: 0.2543 - acc: 0.8971 - val_loss: 0.3422 - val_acc: 0.8499\n",
      "Epoch 5/30\n",
      "3357/3357 [==============================] - 6s 2ms/step - loss: 0.2160 - acc: 0.9118 - val_loss: 0.3455 - val_acc: 0.8458\n",
      "Epoch 6/30\n",
      "3357/3357 [==============================] - 6s 2ms/step - loss: 0.1849 - acc: 0.9288 - val_loss: 0.3638 - val_acc: 0.8432\n",
      "Epoch 7/30\n",
      "3357/3357 [==============================] - 6s 2ms/step - loss: 0.1578 - acc: 0.9401 - val_loss: 0.3808 - val_acc: 0.8284\n",
      "Epoch 8/30\n",
      "3357/3357 [==============================] - 6s 2ms/step - loss: 0.1382 - acc: 0.9516 - val_loss: 0.3974 - val_acc: 0.8271\n",
      "holding fold 8 out\n",
      "Train on 3357 samples, validate on 373 samples\n",
      "Epoch 1/30\n",
      "3357/3357 [==============================] - 6s 2ms/step - loss: 0.4863 - acc: 0.8359 - val_loss: 0.3803 - val_acc: 0.8445\n",
      "Epoch 2/30\n",
      "3357/3357 [==============================] - 6s 2ms/step - loss: 0.3472 - acc: 0.8457 - val_loss: 0.3550 - val_acc: 0.8445\n",
      "Epoch 3/30\n",
      "3357/3357 [==============================] - 6s 2ms/step - loss: 0.2945 - acc: 0.8752 - val_loss: 0.3540 - val_acc: 0.8512\n",
      "Epoch 4/30\n",
      "3357/3357 [==============================] - 6s 2ms/step - loss: 0.2496 - acc: 0.9023 - val_loss: 0.3744 - val_acc: 0.8485\n",
      "Epoch 5/30\n",
      "3357/3357 [==============================] - 6s 2ms/step - loss: 0.2083 - acc: 0.9163 - val_loss: 0.3900 - val_acc: 0.8405\n",
      "Epoch 6/30\n",
      "3357/3357 [==============================] - 6s 2ms/step - loss: 0.1793 - acc: 0.9324 - val_loss: 0.4181 - val_acc: 0.8298\n",
      "Epoch 7/30\n",
      "3357/3357 [==============================] - 6s 2ms/step - loss: 0.1531 - acc: 0.9441 - val_loss: 0.4516 - val_acc: 0.8123\n",
      "holding fold 9 out\n",
      "Train on 3358 samples, validate on 372 samples\n",
      "Epoch 1/30\n",
      "3358/3358 [==============================] - 6s 2ms/step - loss: 0.4854 - acc: 0.8349 - val_loss: 0.3795 - val_acc: 0.8441\n"
     ]
    },
    {
     "name": "stdout",
     "output_type": "stream",
     "text": [
      "Epoch 2/30\n",
      "3358/3358 [==============================] - 6s 2ms/step - loss: 0.3466 - acc: 0.8454 - val_loss: 0.3598 - val_acc: 0.8616\n",
      "Epoch 3/30\n",
      "3358/3358 [==============================] - 6s 2ms/step - loss: 0.2958 - acc: 0.8736 - val_loss: 0.3606 - val_acc: 0.8374\n",
      "Epoch 4/30\n",
      "3358/3358 [==============================] - 6s 2ms/step - loss: 0.2527 - acc: 0.9001 - val_loss: 0.3715 - val_acc: 0.8481\n",
      "Epoch 5/30\n",
      "3358/3358 [==============================] - 6s 2ms/step - loss: 0.2086 - acc: 0.9205 - val_loss: 0.3988 - val_acc: 0.8441\n",
      "Epoch 6/30\n",
      "3358/3358 [==============================] - 6s 2ms/step - loss: 0.1804 - acc: 0.9317 - val_loss: 0.4245 - val_acc: 0.8159\n",
      "holding fold 10 out\n",
      "Train on 3358 samples, validate on 372 samples\n",
      "Epoch 1/30\n",
      "3358/3358 [==============================] - 6s 2ms/step - loss: 0.4828 - acc: 0.8364 - val_loss: 0.3810 - val_acc: 0.8441\n",
      "Epoch 2/30\n",
      "3358/3358 [==============================] - 6s 2ms/step - loss: 0.3469 - acc: 0.8465 - val_loss: 0.3686 - val_acc: 0.8468\n",
      "Epoch 3/30\n",
      "3358/3358 [==============================] - 6s 2ms/step - loss: 0.2938 - acc: 0.8736 - val_loss: 0.3648 - val_acc: 0.8562\n",
      "Epoch 4/30\n",
      "3358/3358 [==============================] - 6s 2ms/step - loss: 0.2470 - acc: 0.8974 - val_loss: 0.3753 - val_acc: 0.8414\n",
      "Epoch 5/30\n",
      "3358/3358 [==============================] - 6s 2ms/step - loss: 0.2128 - acc: 0.9175 - val_loss: 0.4014 - val_acc: 0.8481\n",
      "Epoch 6/30\n",
      "3358/3358 [==============================] - 6s 2ms/step - loss: 0.1804 - acc: 0.9333 - val_loss: 0.4001 - val_acc: 0.8481\n",
      "Epoch 7/30\n",
      "3358/3358 [==============================] - 6s 2ms/step - loss: 0.1578 - acc: 0.9415 - val_loss: 0.4050 - val_acc: 0.8575\n"
     ]
    }
   ],
   "source": [
    "history_GRU = train_model_cv(rnn_GRU, X_train, y_train_int, y_train_ohe, X_test, y_test_ohe, folds=10, weights='GRU_weights.model')"
   ]
  },
  {
   "cell_type": "markdown",
   "metadata": {},
   "source": [
    "Below is a visualization of the last fit during the cross validation. It appears that dataset is not very predictive."
   ]
  },
  {
   "cell_type": "code",
   "execution_count": 126,
   "metadata": {},
   "outputs": [
    {
     "data": {
      "image/png": "[encoded data removed]",
      "text/plain": [
       "<matplotlib.figure.Figure at 0x20cc7048588>"
      ]
     },
     "metadata": {},
     "output_type": "display_data"
    }
   ],
   "source": [
    "plot_losses(rnn_LSTM, 'LSTM')"
   ]
  },
  {
   "cell_type": "code",
   "execution_count": 127,
   "metadata": {},
   "outputs": [
    {
     "data": {
      "image/png": "[encoded data removed]",
      "text/plain": [
       "<matplotlib.figure.Figure at 0x20cc7897a90>"
      ]
     },
     "metadata": {},
     "output_type": "display_data"
    }
   ],
   "source": [
    "plot_losses(rnn_GRU, 'GRU')"
   ]
  },
  {
   "cell_type": "markdown",
   "metadata": {},
   "source": [
    "The LSTM model can also be compared to the GRU model via precision and accuracy score"
   ]
  },
  {
   "cell_type": "code",
   "execution_count": 128,
   "metadata": {},
   "outputs": [
    {
     "data": {
      "text/plain": [
       "Ttest_indResult(statistic=0.43351474577319554, pvalue=0.6697916770336719)"
      ]
     },
     "execution_count": 128,
     "metadata": {},
     "output_type": "execute_result"
    }
   ],
   "source": [
    "from scipy.stats import ttest_ind\n",
    "\n",
    "# two sample t test to compare the lstm to the gru\n",
    "ttest_ind(history_GRU[-2], history_LSTM[-2])"
   ]
  },
  {
   "cell_type": "markdown",
   "metadata": {},
   "source": [
    "There appears to be no difference between the two models when compared via accuracy"
   ]
  },
  {
   "cell_type": "code",
   "execution_count": 129,
   "metadata": {},
   "outputs": [
    {
     "data": {
      "text/plain": [
       "Ttest_indResult(statistic=-0.8010719787292399, pvalue=0.43353751091250436)"
      ]
     },
     "execution_count": 129,
     "metadata": {},
     "output_type": "execute_result"
    }
   ],
   "source": [
    "# two sample t test to compare the lstm to the gru\n",
    "ttest_ind(history_GRU[-1], history_LSTM[-1])"
   ]
  },
  {
   "cell_type": "markdown",
   "metadata": {},
   "source": [
    "There also appears to be no difference between the two models when compared via precision. The GRU rnn will be compared to another GRU with activation relu, dropout at .1, recurrent dropout at .1, and state vector 150 as opposed to tanh with state vector 25, dropout at .2, and recurrent dropout at .2."
   ]
  },
  {
   "cell_type": "code",
   "execution_count": 130,
   "metadata": {},
   "outputs": [
    {
     "name": "stdout",
     "output_type": "stream",
     "text": [
      "_________________________________________________________________\n",
      "Layer (type)                 Output Shape              Param #   \n",
      "=================================================================\n",
      "input_9 (InputLayer)         (None, 91)                0         \n",
      "_________________________________________________________________\n",
      "embedding_10 (Embedding)     (None, 91, 50)            391600    \n",
      "_________________________________________________________________\n",
      "gru_7 (GRU)                  (None, 150)               90450     \n",
      "_________________________________________________________________\n",
      "dense_10 (Dense)             (None, 2)                 302       \n",
      "=================================================================\n",
      "Total params: 482,352\n",
      "Trainable params: 482,352\n",
      "Non-trainable params: 0\n",
      "_________________________________________________________________\n",
      "None\n"
     ]
    }
   ],
   "source": [
    "input_holder = Input(shape=(X_train.shape[1], ))\n",
    "input_embed = Embedding(top_words, # input dimension (max int of OHE)\n",
    "                EMBED_SIZE, # output dimension size\n",
    "                input_length=MAX_ART_LEN)(input_holder) # number of words in each sequence\n",
    "\n",
    "\n",
    "x = GRU(150,dropout=0.1, recurrent_dropout=0.1, activation='relu', kernel_initializer='he_uniform')(input_embed)\n",
    "x = Dense(NUM_CLASSES, activation='sigmoid')(x)\n",
    "rnn_GRU_relu=Model(inputs=input_holder,outputs=x)\n",
    "rnn_GRU_relu.compile(loss='binary_crossentropy', \n",
    "              optimizer='rmsprop', \n",
    "              metrics=['accuracy'])\n",
    "rnn_GRU_relu.save_weights('GRU_weights_relu.model')\n",
    "print(rnn_GRU_relu.summary())"
   ]
  },
  {
   "cell_type": "code",
   "execution_count": 131,
   "metadata": {},
   "outputs": [
    {
     "name": "stdout",
     "output_type": "stream",
     "text": [
      "holding fold 1 out\n",
      "Train on 3356 samples, validate on 374 samples\n",
      "Epoch 1/30\n",
      "3356/3356 [==============================] - 11s 3ms/step - loss: 2.3955 - acc: 0.8404 - val_loss: 2.5288 - val_acc: 0.8422\n",
      "Epoch 2/30\n",
      "3356/3356 [==============================] - 10s 3ms/step - loss: 2.4982 - acc: 0.8442 - val_loss: 2.5288 - val_acc: 0.8422\n",
      "Epoch 3/30\n",
      "3356/3356 [==============================] - 10s 3ms/step - loss: 2.4982 - acc: 0.8442 - val_loss: 2.5288 - val_acc: 0.8422\n",
      "Epoch 4/30\n",
      "3356/3356 [==============================] - 10s 3ms/step - loss: 2.4982 - acc: 0.8442 - val_loss: 2.5288 - val_acc: 0.8422\n",
      "Epoch 5/30\n",
      "3356/3356 [==============================] - 10s 3ms/step - loss: 2.4982 - acc: 0.8442 - val_loss: 2.5288 - val_acc: 0.8422\n",
      "holding fold 2 out\n",
      "Train on 3356 samples, validate on 374 samples\n",
      "Epoch 1/30\n",
      "3356/3356 [==============================] - 10s 3ms/step - loss: 2.3632 - acc: 0.8409 - val_loss: 2.5288 - val_acc: 0.8422\n",
      "Epoch 2/30\n",
      "3356/3356 [==============================] - 10s 3ms/step - loss: 2.4982 - acc: 0.8442 - val_loss: 2.5288 - val_acc: 0.8422\n",
      "Epoch 3/30\n",
      "3356/3356 [==============================] - 10s 3ms/step - loss: 2.4982 - acc: 0.8442 - val_loss: 2.5288 - val_acc: 0.8422\n",
      "Epoch 4/30\n",
      "3356/3356 [==============================] - 10s 3ms/step - loss: 2.4982 - acc: 0.8442 - val_loss: 2.5288 - val_acc: 0.8422\n",
      "Epoch 5/30\n",
      "3356/3356 [==============================] - 10s 3ms/step - loss: 2.4982 - acc: 0.8442 - val_loss: 2.5288 - val_acc: 0.8422\n",
      "holding fold 3 out\n",
      "Train on 3357 samples, validate on 373 samples\n",
      "Epoch 1/30\n",
      "3357/3357 [==============================] - 10s 3ms/step - loss: 2.2995 - acc: 0.8406 - val_loss: 2.4926 - val_acc: 0.8445\n",
      "Epoch 2/30\n",
      "3357/3357 [==============================] - 10s 3ms/step - loss: 2.5022 - acc: 0.8439 - val_loss: 2.4926 - val_acc: 0.8445\n",
      "Epoch 3/30\n",
      "3357/3357 [==============================] - 10s 3ms/step - loss: 2.5022 - acc: 0.8439 - val_loss: 2.4926 - val_acc: 0.8445\n",
      "Epoch 4/30\n",
      "3357/3357 [==============================] - 10s 3ms/step - loss: 2.5022 - acc: 0.8439 - val_loss: 2.4926 - val_acc: 0.8445\n",
      "Epoch 5/30\n",
      "3357/3357 [==============================] - 10s 3ms/step - loss: 2.5022 - acc: 0.8439 - val_loss: 2.4926 - val_acc: 0.8445\n",
      "holding fold 4 out\n",
      "Train on 3357 samples, validate on 373 samples\n",
      "Epoch 1/30\n",
      "3357/3357 [==============================] - 10s 3ms/step - loss: 2.4010 - acc: 0.8381 - val_loss: 2.4926 - val_acc: 0.8445\n",
      "Epoch 2/30\n",
      "3357/3357 [==============================] - 10s 3ms/step - loss: 2.5022 - acc: 0.8439 - val_loss: 2.4926 - val_acc: 0.8445\n",
      "Epoch 3/30\n",
      "3357/3357 [==============================] - 10s 3ms/step - loss: 2.5022 - acc: 0.8439 - val_loss: 2.4926 - val_acc: 0.8445\n",
      "Epoch 4/30\n",
      "3357/3357 [==============================] - 10s 3ms/step - loss: 2.5022 - acc: 0.8439 - val_loss: 2.4926 - val_acc: 0.8445\n",
      "Epoch 5/30\n",
      "3357/3357 [==============================] - 10s 3ms/step - loss: 2.5022 - acc: 0.8439 - val_loss: 2.4926 - val_acc: 0.8445\n",
      "holding fold 5 out\n",
      "Train on 3357 samples, validate on 373 samples\n",
      "Epoch 1/30\n",
      "3357/3357 [==============================] - 10s 3ms/step - loss: 2.3675 - acc: 0.8394 - val_loss: 2.4926 - val_acc: 0.8445\n",
      "Epoch 2/30\n",
      "3357/3357 [==============================] - 10s 3ms/step - loss: 2.5022 - acc: 0.8439 - val_loss: 2.4926 - val_acc: 0.8445\n",
      "Epoch 3/30\n",
      "3357/3357 [==============================] - 10s 3ms/step - loss: 2.5022 - acc: 0.8439 - val_loss: 2.4926 - val_acc: 0.8445\n",
      "Epoch 4/30\n",
      "3357/3357 [==============================] - 10s 3ms/step - loss: 2.5022 - acc: 0.8439 - val_loss: 2.4926 - val_acc: 0.8445\n",
      "Epoch 5/30\n",
      "3357/3357 [==============================] - 10s 3ms/step - loss: 2.5022 - acc: 0.8439 - val_loss: 2.4926 - val_acc: 0.8445\n",
      "holding fold 6 out\n",
      "Train on 3357 samples, validate on 373 samples\n",
      "Epoch 1/30\n",
      "3357/3357 [==============================] - 10s 3ms/step - loss: 2.3632 - acc: 0.8394 - val_loss: 2.4926 - val_acc: 0.8445\n",
      "Epoch 2/30\n",
      "3357/3357 [==============================] - 10s 3ms/step - loss: 2.5022 - acc: 0.8439 - val_loss: 2.4926 - val_acc: 0.8445\n",
      "Epoch 3/30\n",
      "3357/3357 [==============================] - 10s 3ms/step - loss: 2.5022 - acc: 0.8439 - val_loss: 2.4926 - val_acc: 0.8445\n",
      "Epoch 4/30\n",
      "3357/3357 [==============================] - 10s 3ms/step - loss: 2.5022 - acc: 0.8439 - val_loss: 2.4926 - val_acc: 0.8445\n",
      "Epoch 5/30\n",
      "3357/3357 [==============================] - 10s 3ms/step - loss: 2.5022 - acc: 0.8439 - val_loss: 2.4926 - val_acc: 0.8445\n",
      "holding fold 7 out\n",
      "Train on 3357 samples, validate on 373 samples\n",
      "Epoch 1/30\n",
      "3357/3357 [==============================] - 10s 3ms/step - loss: 2.3960 - acc: 0.8394 - val_loss: 2.4926 - val_acc: 0.8445\n",
      "Epoch 2/30\n",
      "3357/3357 [==============================] - 10s 3ms/step - loss: 2.5022 - acc: 0.8439 - val_loss: 2.4926 - val_acc: 0.8445\n",
      "Epoch 3/30\n",
      "3357/3357 [==============================] - 10s 3ms/step - loss: 2.5022 - acc: 0.8439 - val_loss: 2.4926 - val_acc: 0.8445\n",
      "Epoch 4/30\n",
      "3357/3357 [==============================] - 10s 3ms/step - loss: 2.5022 - acc: 0.8439 - val_loss: 2.4926 - val_acc: 0.8445\n",
      "Epoch 5/30\n",
      "3357/3357 [==============================] - 10s 3ms/step - loss: 2.5022 - acc: 0.8439 - val_loss: 2.4926 - val_acc: 0.8445\n",
      "holding fold 8 out\n",
      "Train on 3357 samples, validate on 373 samples\n",
      "Epoch 1/30\n",
      "3357/3357 [==============================] - 10s 3ms/step - loss: 2.3778 - acc: 0.8384 - val_loss: 2.4926 - val_acc: 0.8445\n",
      "Epoch 2/30\n",
      "3357/3357 [==============================] - 10s 3ms/step - loss: 2.5022 - acc: 0.8439 - val_loss: 2.4926 - val_acc: 0.8445\n",
      "Epoch 3/30\n",
      "3357/3357 [==============================] - 10s 3ms/step - loss: 2.5022 - acc: 0.8439 - val_loss: 2.4926 - val_acc: 0.8445\n",
      "Epoch 4/30\n",
      "3357/3357 [==============================] - 10s 3ms/step - loss: 2.5022 - acc: 0.8439 - val_loss: 2.4926 - val_acc: 0.8445\n",
      "Epoch 5/30\n",
      "3357/3357 [==============================] - 10s 3ms/step - loss: 2.5022 - acc: 0.8439 - val_loss: 2.4926 - val_acc: 0.8445\n",
      "holding fold 9 out\n",
      "Train on 3358 samples, validate on 372 samples\n",
      "Epoch 1/30\n",
      "3358/3358 [==============================] - 10s 3ms/step - loss: 2.4145 - acc: 0.8381 - val_loss: 2.4993 - val_acc: 0.8441\n",
      "Epoch 2/30\n",
      "3358/3358 [==============================] - 10s 3ms/step - loss: 2.5014 - acc: 0.8440 - val_loss: 2.4993 - val_acc: 0.8441\n",
      "Epoch 3/30\n",
      "3358/3358 [==============================] - 10s 3ms/step - loss: 2.5014 - acc: 0.8440 - val_loss: 2.4993 - val_acc: 0.8441\n",
      "Epoch 4/30\n",
      "3358/3358 [==============================] - 10s 3ms/step - loss: 2.5014 - acc: 0.8440 - val_loss: 2.4993 - val_acc: 0.8441\n",
      "Epoch 5/30\n",
      "3358/3358 [==============================] - 10s 3ms/step - loss: 2.5014 - acc: 0.8440 - val_loss: 2.4993 - val_acc: 0.8441\n",
      "holding fold 10 out\n",
      "Train on 3358 samples, validate on 372 samples\n",
      "Epoch 1/30\n",
      "3358/3358 [==============================] - 10s 3ms/step - loss: 2.3720 - acc: 0.8389 - val_loss: 2.4993 - val_acc: 0.8441\n",
      "Epoch 2/30\n",
      "3358/3358 [==============================] - 10s 3ms/step - loss: 2.5014 - acc: 0.8440 - val_loss: 2.4993 - val_acc: 0.8441\n",
      "Epoch 3/30\n",
      "3358/3358 [==============================] - 10s 3ms/step - loss: 2.5014 - acc: 0.8440 - val_loss: 2.4993 - val_acc: 0.8441\n",
      "Epoch 4/30\n",
      "3358/3358 [==============================] - 10s 3ms/step - loss: 2.5014 - acc: 0.8440 - val_loss: 2.4993 - val_acc: 0.8441\n",
      "Epoch 5/30\n",
      "3358/3358 [==============================] - 10s 3ms/step - loss: 2.5014 - acc: 0.8440 - val_loss: 2.4993 - val_acc: 0.8441\n"
     ]
    }
   ],
   "source": [
    "history_GRU_relu = train_model_cv(rnn_GRU_relu, X_train, y_train_int, y_train_ohe, X_test, y_test_ohe, folds=10, weights='GRU_weights_relu.model')"
   ]
  },
  {
   "cell_type": "code",
   "execution_count": 132,
   "metadata": {},
   "outputs": [
    {
     "data": {
      "image/png": "[encoded data removed]",
      "text/plain": [
       "<matplotlib.figure.Figure at 0x20ccc62f208>"
      ]
     },
     "metadata": {},
     "output_type": "display_data"
    }
   ],
   "source": [
    "plot_losses(rnn_GRU_relu, 'GRU_relu')"
   ]
  },
  {
   "cell_type": "code",
   "execution_count": 133,
   "metadata": {},
   "outputs": [
    {
     "data": {
      "text/plain": [
       "Ttest_indResult(statistic=4.959070657526469, pvalue=0.00010144892316175937)"
      ]
     },
     "execution_count": 133,
     "metadata": {},
     "output_type": "execute_result"
    }
   ],
   "source": [
    "# two sample t test to compare the lstm to the gru\n",
    "ttest_ind(history_GRU[-2], history_GRU_relu[-2])"
   ]
  },
  {
   "cell_type": "code",
   "execution_count": 134,
   "metadata": {},
   "outputs": [
    {
     "data": {
      "text/plain": [
       "Ttest_indResult(statistic=43.59585906091524, pvalue=1.0488447878190767e-19)"
      ]
     },
     "execution_count": 134,
     "metadata": {},
     "output_type": "execute_result"
    }
   ],
   "source": [
    "# two sample t test to compare the lstm to the gru\n",
    "ttest_ind(history_GRU[-1], history_GRU_relu[-1])"
   ]
  },
  {
   "cell_type": "markdown",
   "metadata": {},
   "source": [
    "Both accuracy and precision were different when comparing the models via two sample ttest. "
   ]
  },
  {
   "cell_type": "code",
   "execution_count": 135,
   "metadata": {},
   "outputs": [],
   "source": [
    "# create dataframe for comparing\n",
    "df=pd.DataFrame([history_GRU[-2], history_GRU_relu[-2]]).T\n",
    "df.columns = ['GRU','GRU_relu']"
   ]
  },
  {
   "cell_type": "code",
   "execution_count": 136,
   "metadata": {},
   "outputs": [
    {
     "data": {
      "text/plain": [
       "<matplotlib.axes._subplots.AxesSubplot at 0x20cb0df4f98>"
      ]
     },
     "execution_count": 136,
     "metadata": {},
     "output_type": "execute_result"
    },
    {
     "data": {
      "image/png": "[encoded data removed]",
      "text/plain": [
       "<matplotlib.figure.Figure at 0x20cc7097438>"
      ]
     },
     "metadata": {},
     "output_type": "display_data"
    }
   ],
   "source": [
    "df.boxplot(['GRU','GRU_relu'])"
   ]
  },
  {
   "cell_type": "markdown",
   "metadata": {},
   "source": [
    "Accuracy compared"
   ]
  },
  {
   "cell_type": "code",
   "execution_count": 137,
   "metadata": {
    "collapsed": true
   },
   "outputs": [],
   "source": [
    "# create dataframe for comparing\n",
    "df=pd.DataFrame([history_GRU[-1], history_GRU_relu[-1]]).T\n",
    "df.columns = ['GRU','GRU_relu']"
   ]
  },
  {
   "cell_type": "code",
   "execution_count": 138,
   "metadata": {},
   "outputs": [
    {
     "data": {
      "text/plain": [
       "<matplotlib.axes._subplots.AxesSubplot at 0x20cc70e4c50>"
      ]
     },
     "execution_count": 138,
     "metadata": {},
     "output_type": "execute_result"
    },
    {
     "data": {
      "image/png": "[encoded data removed]",
      "text/plain": [
       "<matplotlib.figure.Figure at 0x20cc70976a0>"
      ]
     },
     "metadata": {},
     "output_type": "display_data"
    }
   ],
   "source": [
    "df.boxplot(['GRU','GRU_relu'])"
   ]
  },
  {
   "cell_type": "markdown",
   "metadata": {},
   "source": [
    "Precision compared"
   ]
  },
  {
   "cell_type": "markdown",
   "metadata": {},
   "source": [
    "Examining the validation loss curve for both the orginal GRU model created to the GRU with new parameters we find that they perform similarly. When comparing the evaluation metrics precision and accuracy we find that the first GRU model generalizing better. This can be seen in the ttest results as well as the box plot. The new parameters for the GRU do not help with generalization at all."
   ]
  },
  {
   "cell_type": "markdown",
   "metadata": {},
   "source": [
    "## Using pretrained embeddings"
   ]
  },
  {
   "cell_type": "code",
   "execution_count": 139,
   "metadata": {},
   "outputs": [
    {
     "name": "stdout",
     "output_type": "stream",
     "text": [
      "Found 400000 word vectors.\n",
      "(7832, 100)\n",
      "Wall time: 15 s\n"
     ]
    }
   ],
   "source": [
    "%%time\n",
    "EMBED_SIZE = 100\n",
    "# the embed size should match the file you load glove from\n",
    "embeddings_index = {}\n",
    "f = open(r'C:\\Users\\MillerV\\Documents\\Masters Statistics\\CSE7324\\Embeddings\\glove.6B.100d.txt', encoding='utf8')\n",
    "\n",
    "# save key/array pairs of the embeddings\n",
    "#  the key of the dictionary is the word, the array is the embedding\n",
    "for line in f:\n",
    "    values = line.split()\n",
    "    word = values[0]\n",
    "    coefs = np.asarray(values[1:], dtype='float32')\n",
    "    embeddings_index[word] = coefs\n",
    "f.close()\n",
    "\n",
    "print('Found %s word vectors.' % len(embeddings_index))\n",
    "\n",
    "# now fill in the matrix, using the ordering from the\n",
    "#  keras word tokenizer from before\n",
    "embedding_matrix = np.zeros((len(word_index) + 1, EMBED_SIZE))\n",
    "for word, i in word_index.items():\n",
    "    embedding_vector = embeddings_index.get(word)\n",
    "    if embedding_vector is not None:\n",
    "        # words not found in embedding index will be all-zeros.\n",
    "        embedding_matrix[i] = embedding_vector\n",
    "\n",
    "print(embedding_matrix.shape)"
   ]
  },
  {
   "cell_type": "code",
   "execution_count": 140,
   "metadata": {
    "collapsed": true
   },
   "outputs": [],
   "source": [
    "from keras.layers import Embedding\n",
    "\n",
    "embedding_layer = Embedding(len(word_index) + 1,\n",
    "                            EMBED_SIZE,\n",
    "                            weights=[embedding_matrix],\n",
    "                            input_length=MAX_ART_LEN,\n",
    "                            trainable=False)"
   ]
  },
  {
   "cell_type": "code",
   "execution_count": 141,
   "metadata": {},
   "outputs": [
    {
     "name": "stdout",
     "output_type": "stream",
     "text": [
      "_________________________________________________________________\n",
      "Layer (type)                 Output Shape              Param #   \n",
      "=================================================================\n",
      "embedding_11 (Embedding)     (None, 91, 100)           783200    \n",
      "_________________________________________________________________\n",
      "gru_8 (GRU)                  (None, 25)                9450      \n",
      "_________________________________________________________________\n",
      "dense_11 (Dense)             (None, 2)                 52        \n",
      "=================================================================\n",
      "Total params: 792,702\n",
      "Trainable params: 9,502\n",
      "Non-trainable params: 783,200\n",
      "_________________________________________________________________\n",
      "None\n"
     ]
    }
   ],
   "source": [
    "from keras.models import Sequential\n",
    "from keras.layers import Dense\n",
    "from keras.layers import LSTM\n",
    "\n",
    "rnn_GRU_glove = Sequential()\n",
    "rnn_GRU_glove.add(embedding_layer)\n",
    "rnn_GRU_glove.add(GRU(25,dropout=0.2, recurrent_dropout=0.2))\n",
    "rnn_GRU_glove.add(Dense(NUM_CLASSES, activation='sigmoid'))\n",
    "rnn_GRU_glove.compile(loss='binary_crossentropy', \n",
    "              optimizer='rmsprop', \n",
    "              metrics=['accuracy'])\n",
    "rnn_GRU_glove.save_weights('GRU_glove_weights.model')\n",
    "print(rnn_GRU_glove.summary())"
   ]
  },
  {
   "cell_type": "code",
   "execution_count": 142,
   "metadata": {},
   "outputs": [
    {
     "name": "stdout",
     "output_type": "stream",
     "text": [
      "holding fold 1 out\n",
      "Train on 3356 samples, validate on 374 samples\n",
      "Epoch 1/30\n",
      "3356/3356 [==============================] - 6s 2ms/step - loss: 0.4462 - acc: 0.8206 - val_loss: 0.4169 - val_acc: 0.8409\n",
      "Epoch 2/30\n",
      "3356/3356 [==============================] - 5s 1ms/step - loss: 0.3840 - acc: 0.8439 - val_loss: 0.4150 - val_acc: 0.8422\n",
      "Epoch 3/30\n",
      "3356/3356 [==============================] - 4s 1ms/step - loss: 0.3708 - acc: 0.8465 - val_loss: 0.4043 - val_acc: 0.8302\n",
      "Epoch 4/30\n",
      "3356/3356 [==============================] - 5s 1ms/step - loss: 0.3694 - acc: 0.8485 - val_loss: 0.3969 - val_acc: 0.8316\n",
      "Epoch 5/30\n",
      "3356/3356 [==============================] - 5s 1ms/step - loss: 0.3637 - acc: 0.8468 - val_loss: 0.3938 - val_acc: 0.8369\n",
      "Epoch 6/30\n",
      "3356/3356 [==============================] - 5s 1ms/step - loss: 0.3536 - acc: 0.8516 - val_loss: 0.3890 - val_acc: 0.8316\n",
      "Epoch 7/30\n",
      "3356/3356 [==============================] - 5s 1ms/step - loss: 0.3491 - acc: 0.8522 - val_loss: 0.3924 - val_acc: 0.8396\n",
      "Epoch 8/30\n",
      "3356/3356 [==============================] - 5s 1ms/step - loss: 0.3430 - acc: 0.8550 - val_loss: 0.3837 - val_acc: 0.8329\n",
      "Epoch 9/30\n",
      "3356/3356 [==============================] - 4s 1ms/step - loss: 0.3383 - acc: 0.8567 - val_loss: 0.3811 - val_acc: 0.8316\n",
      "Epoch 10/30\n",
      "3356/3356 [==============================] - 4s 1ms/step - loss: 0.3339 - acc: 0.8528 - val_loss: 0.3747 - val_acc: 0.8356\n",
      "Epoch 11/30\n",
      "3356/3356 [==============================] - 5s 1ms/step - loss: 0.3285 - acc: 0.8592 - val_loss: 0.3719 - val_acc: 0.8316\n",
      "Epoch 12/30\n",
      "3356/3356 [==============================] - 5s 1ms/step - loss: 0.3207 - acc: 0.8653 - val_loss: 0.3824 - val_acc: 0.8316\n",
      "Epoch 13/30\n",
      "3356/3356 [==============================] - 5s 2ms/step - loss: 0.3171 - acc: 0.8650 - val_loss: 0.3753 - val_acc: 0.8302\n",
      "Epoch 14/30\n",
      "3356/3356 [==============================] - 5s 2ms/step - loss: 0.3129 - acc: 0.8667 - val_loss: 0.3690 - val_acc: 0.8356\n",
      "Epoch 15/30\n",
      "3356/3356 [==============================] - 5s 2ms/step - loss: 0.3063 - acc: 0.8708 - val_loss: 0.3696 - val_acc: 0.8436\n",
      "Epoch 16/30\n",
      "3356/3356 [==============================] - 5s 1ms/step - loss: 0.3048 - acc: 0.8649 - val_loss: 0.3752 - val_acc: 0.8342\n",
      "Epoch 17/30\n",
      "3356/3356 [==============================] - 5s 1ms/step - loss: 0.2929 - acc: 0.8754 - val_loss: 0.3895 - val_acc: 0.8422\n",
      "Epoch 18/30\n",
      "3356/3356 [==============================] - 5s 1ms/step - loss: 0.2945 - acc: 0.8763 - val_loss: 0.3737 - val_acc: 0.8342\n",
      "holding fold 2 out\n",
      "Train on 3356 samples, validate on 374 samples\n",
      "Epoch 1/30\n",
      "3356/3356 [==============================] - 5s 1ms/step - loss: 0.4686 - acc: 0.8078 - val_loss: 0.3786 - val_acc: 0.8476\n",
      "Epoch 2/30\n",
      "3356/3356 [==============================] - 5s 1ms/step - loss: 0.3944 - acc: 0.8413 - val_loss: 0.3596 - val_acc: 0.8489\n",
      "Epoch 3/30\n",
      "3356/3356 [==============================] - 5s 1ms/step - loss: 0.3761 - acc: 0.8470 - val_loss: 0.3458 - val_acc: 0.8529\n",
      "Epoch 4/30\n",
      "3356/3356 [==============================] - 5s 1ms/step - loss: 0.3736 - acc: 0.8454 - val_loss: 0.3462 - val_acc: 0.8543\n",
      "Epoch 5/30\n",
      "3356/3356 [==============================] - 5s 1ms/step - loss: 0.3634 - acc: 0.8500 - val_loss: 0.3431 - val_acc: 0.8556\n",
      "Epoch 6/30\n",
      "3356/3356 [==============================] - 5s 1ms/step - loss: 0.3622 - acc: 0.8485 - val_loss: 0.3408 - val_acc: 0.8476\n",
      "Epoch 7/30\n",
      "3356/3356 [==============================] - 5s 1ms/step - loss: 0.3561 - acc: 0.8522 - val_loss: 0.3343 - val_acc: 0.8503\n",
      "Epoch 8/30\n",
      "3356/3356 [==============================] - 5s 1ms/step - loss: 0.3471 - acc: 0.8550 - val_loss: 0.3339 - val_acc: 0.8516\n",
      "Epoch 9/30\n",
      "3356/3356 [==============================] - 5s 1ms/step - loss: 0.3504 - acc: 0.8522 - val_loss: 0.3301 - val_acc: 0.8449\n",
      "Epoch 10/30\n",
      "3356/3356 [==============================] - 5s 1ms/step - loss: 0.3384 - acc: 0.8553 - val_loss: 0.3300 - val_acc: 0.8570\n",
      "Epoch 11/30\n",
      "3356/3356 [==============================] - 5s 1ms/step - loss: 0.3305 - acc: 0.8595 - val_loss: 0.3270 - val_acc: 0.8516\n",
      "Epoch 12/30\n",
      "3356/3356 [==============================] - 5s 1ms/step - loss: 0.3269 - acc: 0.8673 - val_loss: 0.3264 - val_acc: 0.8503\n",
      "Epoch 13/30\n",
      "3356/3356 [==============================] - 5s 1ms/step - loss: 0.3226 - acc: 0.8629 - val_loss: 0.3233 - val_acc: 0.8516\n",
      "Epoch 14/30\n",
      "3356/3356 [==============================] - 5s 1ms/step - loss: 0.3170 - acc: 0.8649 - val_loss: 0.3236 - val_acc: 0.8422\n",
      "Epoch 15/30\n",
      "3356/3356 [==============================] - 5s 1ms/step - loss: 0.3105 - acc: 0.8671 - val_loss: 0.3134 - val_acc: 0.8503\n",
      "Epoch 16/30\n",
      "3356/3356 [==============================] - 5s 1ms/step - loss: 0.3088 - acc: 0.8695 - val_loss: 0.3122 - val_acc: 0.8516\n",
      "Epoch 17/30\n",
      "3356/3356 [==============================] - 5s 1ms/step - loss: 0.3052 - acc: 0.8677 - val_loss: 0.3174 - val_acc: 0.8436\n",
      "Epoch 18/30\n",
      "3356/3356 [==============================] - 5s 1ms/step - loss: 0.2954 - acc: 0.8783 - val_loss: 0.3132 - val_acc: 0.8516\n",
      "Epoch 19/30\n",
      "3356/3356 [==============================] - 5s 1ms/step - loss: 0.2948 - acc: 0.8792 - val_loss: 0.3064 - val_acc: 0.8543\n",
      "Epoch 20/30\n",
      "3356/3356 [==============================] - 5s 1ms/step - loss: 0.2841 - acc: 0.8780 - val_loss: 0.3044 - val_acc: 0.8529\n",
      "Epoch 21/30\n",
      "3356/3356 [==============================] - 5s 1ms/step - loss: 0.2819 - acc: 0.8802 - val_loss: 0.3071 - val_acc: 0.8516\n",
      "Epoch 22/30\n",
      "3356/3356 [==============================] - 5s 1ms/step - loss: 0.2808 - acc: 0.8844 - val_loss: 0.3035 - val_acc: 0.8543\n",
      "Epoch 23/30\n",
      "3356/3356 [==============================] - 5s 1ms/step - loss: 0.2718 - acc: 0.8880 - val_loss: 0.3071 - val_acc: 0.8570\n",
      "Epoch 24/30\n",
      "3356/3356 [==============================] - 5s 1ms/step - loss: 0.2689 - acc: 0.8893 - val_loss: 0.3044 - val_acc: 0.8663\n",
      "Epoch 25/30\n",
      "3356/3356 [==============================] - 5s 1ms/step - loss: 0.2642 - acc: 0.8884 - val_loss: 0.3073 - val_acc: 0.8543\n",
      "Epoch 26/30\n",
      "3356/3356 [==============================] - 5s 1ms/step - loss: 0.2615 - acc: 0.8862 - val_loss: 0.3039 - val_acc: 0.8636\n",
      "holding fold 3 out\n",
      "Train on 3357 samples, validate on 373 samples\n",
      "Epoch 1/30\n",
      "3357/3357 [==============================] - 5s 1ms/step - loss: 0.4743 - acc: 0.8079 - val_loss: 0.3948 - val_acc: 0.8445\n",
      "Epoch 2/30\n",
      "3357/3357 [==============================] - 5s 1ms/step - loss: 0.3902 - acc: 0.8442 - val_loss: 0.3785 - val_acc: 0.8458\n",
      "Epoch 3/30\n",
      "3357/3357 [==============================] - 5s 1ms/step - loss: 0.3785 - acc: 0.8461 - val_loss: 0.3686 - val_acc: 0.8445\n",
      "Epoch 4/30\n",
      "3357/3357 [==============================] - 5s 1ms/step - loss: 0.3704 - acc: 0.8491 - val_loss: 0.3668 - val_acc: 0.8458\n",
      "Epoch 5/30\n",
      "3357/3357 [==============================] - 5s 1ms/step - loss: 0.3647 - acc: 0.8484 - val_loss: 0.3686 - val_acc: 0.8499\n",
      "Epoch 6/30\n",
      "3357/3357 [==============================] - 5s 1ms/step - loss: 0.3515 - acc: 0.8563 - val_loss: 0.3622 - val_acc: 0.8525\n",
      "Epoch 7/30\n",
      "3357/3357 [==============================] - 5s 1ms/step - loss: 0.3481 - acc: 0.8520 - val_loss: 0.3662 - val_acc: 0.8445\n",
      "Epoch 8/30\n",
      "3357/3357 [==============================] - 5s 1ms/step - loss: 0.3500 - acc: 0.8528 - val_loss: 0.3588 - val_acc: 0.8525\n",
      "Epoch 9/30\n",
      "3357/3357 [==============================] - 5s 1ms/step - loss: 0.3381 - acc: 0.8612 - val_loss: 0.3579 - val_acc: 0.8499\n",
      "Epoch 10/30\n",
      "3357/3357 [==============================] - 5s 1ms/step - loss: 0.3350 - acc: 0.8581 - val_loss: 0.3572 - val_acc: 0.8525\n",
      "Epoch 11/30\n",
      "3357/3357 [==============================] - 5s 1ms/step - loss: 0.3261 - acc: 0.8615 - val_loss: 0.3574 - val_acc: 0.8485\n",
      "Epoch 12/30\n",
      "3357/3357 [==============================] - 5s 1ms/step - loss: 0.3251 - acc: 0.8648 - val_loss: 0.3737 - val_acc: 0.8472\n",
      "Epoch 13/30\n",
      "3357/3357 [==============================] - 5s 1ms/step - loss: 0.3173 - acc: 0.8658 - val_loss: 0.3543 - val_acc: 0.8485\n",
      "Epoch 14/30\n",
      "3357/3357 [==============================] - 5s 1ms/step - loss: 0.3086 - acc: 0.8706 - val_loss: 0.3578 - val_acc: 0.8539\n",
      "Epoch 15/30\n",
      "3357/3357 [==============================] - 5s 1ms/step - loss: 0.3118 - acc: 0.8642 - val_loss: 0.3601 - val_acc: 0.8552\n",
      "Epoch 16/30\n"
     ]
    },
    {
     "name": "stdout",
     "output_type": "stream",
     "text": [
      "3357/3357 [==============================] - 4s 1ms/step - loss: 0.3048 - acc: 0.8725 - val_loss: 0.3586 - val_acc: 0.8418\n",
      "Epoch 17/30\n",
      "3357/3357 [==============================] - 4s 1ms/step - loss: 0.3015 - acc: 0.8688 - val_loss: 0.3620 - val_acc: 0.8552\n",
      "holding fold 4 out\n",
      "Train on 3357 samples, validate on 373 samples\n",
      "Epoch 1/30\n",
      "3357/3357 [==============================] - 4s 1ms/step - loss: 0.4666 - acc: 0.8110 - val_loss: 0.3994 - val_acc: 0.8432\n",
      "Epoch 2/30\n",
      "3357/3357 [==============================] - 4s 1ms/step - loss: 0.3886 - acc: 0.8450 - val_loss: 0.3995 - val_acc: 0.8432\n",
      "Epoch 3/30\n",
      "3357/3357 [==============================] - 4s 1ms/step - loss: 0.3772 - acc: 0.8469 - val_loss: 0.3843 - val_acc: 0.8405\n",
      "Epoch 4/30\n",
      "3357/3357 [==============================] - 5s 1ms/step - loss: 0.3701 - acc: 0.8464 - val_loss: 0.3796 - val_acc: 0.8338\n",
      "Epoch 5/30\n",
      "3357/3357 [==============================] - 4s 1ms/step - loss: 0.3625 - acc: 0.8499 - val_loss: 0.3785 - val_acc: 0.8405\n",
      "Epoch 6/30\n",
      "3357/3357 [==============================] - 4s 1ms/step - loss: 0.3548 - acc: 0.8539 - val_loss: 0.3737 - val_acc: 0.8351\n",
      "Epoch 7/30\n",
      "3357/3357 [==============================] - 4s 1ms/step - loss: 0.3495 - acc: 0.8542 - val_loss: 0.3708 - val_acc: 0.8351\n",
      "Epoch 8/30\n",
      "3357/3357 [==============================] - 5s 1ms/step - loss: 0.3454 - acc: 0.8543 - val_loss: 0.3701 - val_acc: 0.8365\n",
      "Epoch 9/30\n",
      "3357/3357 [==============================] - 4s 1ms/step - loss: 0.3390 - acc: 0.8575 - val_loss: 0.3722 - val_acc: 0.8391\n",
      "Epoch 10/30\n",
      "3357/3357 [==============================] - 5s 1ms/step - loss: 0.3349 - acc: 0.8594 - val_loss: 0.3647 - val_acc: 0.8378\n",
      "Epoch 11/30\n",
      "3357/3357 [==============================] - 5s 1ms/step - loss: 0.3281 - acc: 0.8654 - val_loss: 0.3595 - val_acc: 0.8378\n",
      "Epoch 12/30\n",
      "3357/3357 [==============================] - 5s 1ms/step - loss: 0.3218 - acc: 0.8646 - val_loss: 0.3625 - val_acc: 0.8418\n",
      "Epoch 13/30\n",
      "3357/3357 [==============================] - 5s 1ms/step - loss: 0.3163 - acc: 0.8657 - val_loss: 0.3553 - val_acc: 0.8405\n",
      "Epoch 14/30\n",
      "3357/3357 [==============================] - 5s 1ms/step - loss: 0.3121 - acc: 0.8643 - val_loss: 0.3565 - val_acc: 0.8378\n",
      "Epoch 15/30\n",
      "3357/3357 [==============================] - 5s 1ms/step - loss: 0.3001 - acc: 0.8698 - val_loss: 0.3599 - val_acc: 0.8445\n",
      "Epoch 16/30\n",
      "3357/3357 [==============================] - 5s 1ms/step - loss: 0.2986 - acc: 0.8721 - val_loss: 0.3572 - val_acc: 0.8458\n",
      "Epoch 17/30\n",
      "3357/3357 [==============================] - 5s 1ms/step - loss: 0.2974 - acc: 0.8712 - val_loss: 0.3542 - val_acc: 0.8391\n",
      "Epoch 18/30\n",
      "3357/3357 [==============================] - 5s 1ms/step - loss: 0.2909 - acc: 0.8732 - val_loss: 0.3565 - val_acc: 0.8405\n",
      "Epoch 19/30\n",
      "3357/3357 [==============================] - 5s 1ms/step - loss: 0.2918 - acc: 0.8776 - val_loss: 0.3577 - val_acc: 0.8472\n",
      "Epoch 20/30\n",
      "3357/3357 [==============================] - 5s 1ms/step - loss: 0.2834 - acc: 0.8792 - val_loss: 0.3586 - val_acc: 0.8485\n",
      "Epoch 21/30\n",
      "3357/3357 [==============================] - 5s 1ms/step - loss: 0.2823 - acc: 0.8788 - val_loss: 0.3627 - val_acc: 0.8458\n",
      "holding fold 5 out\n",
      "Train on 3357 samples, validate on 373 samples\n",
      "Epoch 1/30\n",
      "3357/3357 [==============================] - 5s 1ms/step - loss: 0.4680 - acc: 0.8099 - val_loss: 0.3804 - val_acc: 0.8458\n",
      "Epoch 2/30\n",
      "3357/3357 [==============================] - 5s 1ms/step - loss: 0.3949 - acc: 0.8451 - val_loss: 0.3574 - val_acc: 0.8512\n",
      "Epoch 3/30\n",
      "3357/3357 [==============================] - 5s 1ms/step - loss: 0.3812 - acc: 0.8461 - val_loss: 0.3550 - val_acc: 0.8499\n",
      "Epoch 4/30\n",
      "3357/3357 [==============================] - 5s 1ms/step - loss: 0.3719 - acc: 0.8478 - val_loss: 0.3469 - val_acc: 0.8539\n",
      "Epoch 5/30\n",
      "3357/3357 [==============================] - 5s 1ms/step - loss: 0.3702 - acc: 0.8499 - val_loss: 0.3451 - val_acc: 0.8485\n",
      "Epoch 6/30\n",
      "3357/3357 [==============================] - 5s 1ms/step - loss: 0.3621 - acc: 0.8475 - val_loss: 0.3448 - val_acc: 0.8485\n",
      "Epoch 7/30\n",
      "3357/3357 [==============================] - 5s 1ms/step - loss: 0.3581 - acc: 0.8508 - val_loss: 0.3437 - val_acc: 0.8445\n",
      "Epoch 8/30\n",
      "3357/3357 [==============================] - 5s 1ms/step - loss: 0.3489 - acc: 0.8573 - val_loss: 0.3351 - val_acc: 0.8512\n",
      "Epoch 9/30\n",
      "3357/3357 [==============================] - 5s 1ms/step - loss: 0.3459 - acc: 0.8548 - val_loss: 0.3361 - val_acc: 0.8445\n",
      "Epoch 10/30\n",
      "3357/3357 [==============================] - 5s 1ms/step - loss: 0.3391 - acc: 0.8585 - val_loss: 0.3374 - val_acc: 0.8445\n",
      "Epoch 11/30\n",
      "3357/3357 [==============================] - 5s 1ms/step - loss: 0.3292 - acc: 0.8612 - val_loss: 0.3313 - val_acc: 0.8512\n",
      "Epoch 12/30\n",
      "3357/3357 [==============================] - 5s 1ms/step - loss: 0.3283 - acc: 0.8649 - val_loss: 0.3388 - val_acc: 0.8458\n",
      "Epoch 13/30\n",
      "3357/3357 [==============================] - 5s 1ms/step - loss: 0.3207 - acc: 0.8662 - val_loss: 0.3305 - val_acc: 0.8485\n",
      "Epoch 14/30\n",
      "3357/3357 [==============================] - 5s 1ms/step - loss: 0.3173 - acc: 0.8670 - val_loss: 0.3298 - val_acc: 0.8512\n",
      "Epoch 15/30\n",
      "3357/3357 [==============================] - 5s 1ms/step - loss: 0.3091 - acc: 0.8727 - val_loss: 0.3294 - val_acc: 0.8539\n",
      "Epoch 16/30\n",
      "3357/3357 [==============================] - 5s 1ms/step - loss: 0.3039 - acc: 0.8788 - val_loss: 0.3288 - val_acc: 0.8485\n",
      "Epoch 17/30\n",
      "3357/3357 [==============================] - 5s 1ms/step - loss: 0.3039 - acc: 0.8716 - val_loss: 0.3375 - val_acc: 0.8485\n",
      "Epoch 18/30\n",
      "3357/3357 [==============================] - 5s 1ms/step - loss: 0.2933 - acc: 0.8734 - val_loss: 0.3399 - val_acc: 0.8472\n",
      "Epoch 19/30\n",
      "3357/3357 [==============================] - 5s 1ms/step - loss: 0.2931 - acc: 0.8771 - val_loss: 0.3320 - val_acc: 0.8472\n",
      "Epoch 20/30\n",
      "3357/3357 [==============================] - 5s 1ms/step - loss: 0.2866 - acc: 0.8779 - val_loss: 0.3438 - val_acc: 0.8418\n",
      "holding fold 6 out\n",
      "Train on 3357 samples, validate on 373 samples\n",
      "Epoch 1/30\n",
      "3357/3357 [==============================] - 5s 1ms/step - loss: 0.4686 - acc: 0.8061 - val_loss: 0.4100 - val_acc: 0.8458\n",
      "Epoch 2/30\n",
      "3357/3357 [==============================] - 5s 1ms/step - loss: 0.3926 - acc: 0.8438 - val_loss: 0.3911 - val_acc: 0.8405\n",
      "Epoch 3/30\n",
      "3357/3357 [==============================] - 5s 1ms/step - loss: 0.3715 - acc: 0.8488 - val_loss: 0.3815 - val_acc: 0.8391\n",
      "Epoch 4/30\n",
      "3357/3357 [==============================] - 5s 1ms/step - loss: 0.3689 - acc: 0.8475 - val_loss: 0.3786 - val_acc: 0.8311\n",
      "Epoch 5/30\n",
      "3357/3357 [==============================] - 5s 1ms/step - loss: 0.3638 - acc: 0.8533 - val_loss: 0.3751 - val_acc: 0.8391\n",
      "Epoch 6/30\n",
      "3357/3357 [==============================] - 5s 1ms/step - loss: 0.3542 - acc: 0.8551 - val_loss: 0.3711 - val_acc: 0.8391\n",
      "Epoch 7/30\n",
      "3357/3357 [==============================] - 5s 1ms/step - loss: 0.3512 - acc: 0.8563 - val_loss: 0.3686 - val_acc: 0.8338\n",
      "Epoch 8/30\n",
      "3357/3357 [==============================] - 5s 1ms/step - loss: 0.3466 - acc: 0.8595 - val_loss: 0.3691 - val_acc: 0.8391\n",
      "Epoch 9/30\n",
      "3357/3357 [==============================] - 5s 2ms/step - loss: 0.3424 - acc: 0.8564 - val_loss: 0.3669 - val_acc: 0.8284\n",
      "Epoch 10/30\n",
      "3357/3357 [==============================] - 5s 2ms/step - loss: 0.3352 - acc: 0.8594 - val_loss: 0.3629 - val_acc: 0.8311\n",
      "Epoch 11/30\n",
      "3357/3357 [==============================] - 5s 2ms/step - loss: 0.3276 - acc: 0.8639 - val_loss: 0.3621 - val_acc: 0.8338\n",
      "Epoch 12/30\n",
      "3357/3357 [==============================] - 5s 1ms/step - loss: 0.3226 - acc: 0.8682 - val_loss: 0.3591 - val_acc: 0.8378\n",
      "Epoch 13/30\n",
      "3357/3357 [==============================] - 5s 1ms/step - loss: 0.3168 - acc: 0.8691 - val_loss: 0.3583 - val_acc: 0.8311\n",
      "Epoch 14/30\n",
      "3357/3357 [==============================] - 5s 1ms/step - loss: 0.3111 - acc: 0.8691 - val_loss: 0.3568 - val_acc: 0.8405\n",
      "Epoch 15/30\n",
      "3357/3357 [==============================] - 5s 1ms/step - loss: 0.3061 - acc: 0.8738 - val_loss: 0.3585 - val_acc: 0.8485\n",
      "Epoch 16/30\n",
      "3357/3357 [==============================] - 5s 1ms/step - loss: 0.3023 - acc: 0.8718 - val_loss: 0.3604 - val_acc: 0.8405\n",
      "Epoch 17/30\n"
     ]
    },
    {
     "name": "stdout",
     "output_type": "stream",
     "text": [
      "3357/3357 [==============================] - 5s 1ms/step - loss: 0.2941 - acc: 0.8771 - val_loss: 0.3610 - val_acc: 0.8485\n",
      "Epoch 18/30\n",
      "3357/3357 [==============================] - 5s 1ms/step - loss: 0.2865 - acc: 0.8755 - val_loss: 0.3642 - val_acc: 0.8525\n",
      "holding fold 7 out\n",
      "Train on 3357 samples, validate on 373 samples\n",
      "Epoch 1/30\n",
      "3357/3357 [==============================] - 4s 1ms/step - loss: 0.4669 - acc: 0.8077 - val_loss: 0.4122 - val_acc: 0.8458\n",
      "Epoch 2/30\n",
      "3357/3357 [==============================] - 5s 1ms/step - loss: 0.3901 - acc: 0.8424 - val_loss: 0.3950 - val_acc: 0.8458\n",
      "Epoch 3/30\n",
      "3357/3357 [==============================] - 4s 1ms/step - loss: 0.3722 - acc: 0.8452 - val_loss: 0.3876 - val_acc: 0.8525\n",
      "Epoch 4/30\n",
      "3357/3357 [==============================] - 5s 1ms/step - loss: 0.3726 - acc: 0.8436 - val_loss: 0.3828 - val_acc: 0.8472\n",
      "Epoch 5/30\n",
      "3357/3357 [==============================] - 5s 1ms/step - loss: 0.3670 - acc: 0.8441 - val_loss: 0.3774 - val_acc: 0.8606\n",
      "Epoch 6/30\n",
      "3357/3357 [==============================] - 5s 1ms/step - loss: 0.3574 - acc: 0.8512 - val_loss: 0.3734 - val_acc: 0.8525\n",
      "Epoch 7/30\n",
      "3357/3357 [==============================] - 5s 1ms/step - loss: 0.3546 - acc: 0.8473 - val_loss: 0.3712 - val_acc: 0.8525\n",
      "Epoch 8/30\n",
      "3357/3357 [==============================] - 5s 1ms/step - loss: 0.3460 - acc: 0.8542 - val_loss: 0.3687 - val_acc: 0.8499\n",
      "Epoch 9/30\n",
      "3357/3357 [==============================] - 5s 1ms/step - loss: 0.3400 - acc: 0.8549 - val_loss: 0.3626 - val_acc: 0.8539\n",
      "Epoch 10/30\n",
      "3357/3357 [==============================] - 5s 1ms/step - loss: 0.3332 - acc: 0.8573 - val_loss: 0.3571 - val_acc: 0.8606\n",
      "Epoch 11/30\n",
      "3357/3357 [==============================] - 5s 1ms/step - loss: 0.3323 - acc: 0.8536 - val_loss: 0.3567 - val_acc: 0.8579\n",
      "Epoch 12/30\n",
      "3357/3357 [==============================] - 5s 2ms/step - loss: 0.3252 - acc: 0.8613 - val_loss: 0.3510 - val_acc: 0.8539\n",
      "Epoch 13/30\n",
      "3357/3357 [==============================] - 5s 1ms/step - loss: 0.3215 - acc: 0.8630 - val_loss: 0.3499 - val_acc: 0.8579\n",
      "Epoch 14/30\n",
      "3357/3357 [==============================] - 5s 1ms/step - loss: 0.3161 - acc: 0.8622 - val_loss: 0.3545 - val_acc: 0.8579\n",
      "Epoch 15/30\n",
      "3357/3357 [==============================] - 5s 2ms/step - loss: 0.3079 - acc: 0.8712 - val_loss: 0.3498 - val_acc: 0.8592\n",
      "Epoch 16/30\n",
      "3357/3357 [==============================] - 5s 2ms/step - loss: 0.3027 - acc: 0.8715 - val_loss: 0.3460 - val_acc: 0.8660\n",
      "Epoch 17/30\n",
      "3357/3357 [==============================] - 5s 1ms/step - loss: 0.2968 - acc: 0.8718 - val_loss: 0.3446 - val_acc: 0.8686\n",
      "Epoch 18/30\n",
      "3357/3357 [==============================] - 5s 1ms/step - loss: 0.3005 - acc: 0.8689 - val_loss: 0.3446 - val_acc: 0.8686\n",
      "Epoch 19/30\n",
      "3357/3357 [==============================] - 5s 1ms/step - loss: 0.2878 - acc: 0.8819 - val_loss: 0.3456 - val_acc: 0.8727\n",
      "Epoch 20/30\n",
      "3357/3357 [==============================] - 5s 1ms/step - loss: 0.2919 - acc: 0.8718 - val_loss: 0.3472 - val_acc: 0.8686\n",
      "Epoch 21/30\n",
      "3357/3357 [==============================] - 5s 1ms/step - loss: 0.2864 - acc: 0.8712 - val_loss: 0.3427 - val_acc: 0.8700\n",
      "Epoch 22/30\n",
      "3357/3357 [==============================] - 5s 1ms/step - loss: 0.2699 - acc: 0.8881 - val_loss: 0.3718 - val_acc: 0.8566\n",
      "Epoch 23/30\n",
      "3357/3357 [==============================] - 5s 1ms/step - loss: 0.2721 - acc: 0.8856 - val_loss: 0.3698 - val_acc: 0.8579\n",
      "Epoch 24/30\n",
      "3357/3357 [==============================] - 5s 1ms/step - loss: 0.2718 - acc: 0.8823 - val_loss: 0.3466 - val_acc: 0.8686\n",
      "Epoch 25/30\n",
      "3357/3357 [==============================] - 5s 2ms/step - loss: 0.2690 - acc: 0.8893 - val_loss: 0.3419 - val_acc: 0.8686\n",
      "Epoch 26/30\n",
      "3357/3357 [==============================] - 5s 2ms/step - loss: 0.2497 - acc: 0.8926 - val_loss: 0.3476 - val_acc: 0.8633\n",
      "Epoch 27/30\n",
      "3357/3357 [==============================] - 5s 1ms/step - loss: 0.2547 - acc: 0.8940 - val_loss: 0.3472 - val_acc: 0.8700\n",
      "Epoch 28/30\n",
      "3357/3357 [==============================] - 5s 1ms/step - loss: 0.2455 - acc: 0.8960 - val_loss: 0.3516 - val_acc: 0.8646\n",
      "Epoch 29/30\n",
      "3357/3357 [==============================] - 5s 1ms/step - loss: 0.2475 - acc: 0.8956 - val_loss: 0.3591 - val_acc: 0.8633\n",
      "holding fold 8 out\n",
      "Train on 3357 samples, validate on 373 samples\n",
      "Epoch 1/30\n",
      "3357/3357 [==============================] - 5s 1ms/step - loss: 0.4669 - acc: 0.8088 - val_loss: 0.4008 - val_acc: 0.8445\n",
      "Epoch 2/30\n",
      "3357/3357 [==============================] - 5s 1ms/step - loss: 0.3875 - acc: 0.8429 - val_loss: 0.4061 - val_acc: 0.8445\n",
      "Epoch 3/30\n",
      "3357/3357 [==============================] - 5s 1ms/step - loss: 0.3749 - acc: 0.8460 - val_loss: 0.4015 - val_acc: 0.8432\n",
      "Epoch 4/30\n",
      "3357/3357 [==============================] - 5s 1ms/step - loss: 0.3684 - acc: 0.8476 - val_loss: 0.3996 - val_acc: 0.8405\n",
      "Epoch 5/30\n",
      "3357/3357 [==============================] - 5s 1ms/step - loss: 0.3608 - acc: 0.8475 - val_loss: 0.3997 - val_acc: 0.8458\n",
      "Epoch 6/30\n",
      "3357/3357 [==============================] - 5s 2ms/step - loss: 0.3531 - acc: 0.8518 - val_loss: 0.4016 - val_acc: 0.8458\n",
      "Epoch 7/30\n",
      "3357/3357 [==============================] - 5s 1ms/step - loss: 0.3448 - acc: 0.8534 - val_loss: 0.3951 - val_acc: 0.8458\n",
      "Epoch 8/30\n",
      "3357/3357 [==============================] - 5s 1ms/step - loss: 0.3430 - acc: 0.8566 - val_loss: 0.3938 - val_acc: 0.8472\n",
      "Epoch 9/30\n",
      "3357/3357 [==============================] - 5s 1ms/step - loss: 0.3382 - acc: 0.8619 - val_loss: 0.3875 - val_acc: 0.8391\n",
      "Epoch 10/30\n",
      "3357/3357 [==============================] - 5s 1ms/step - loss: 0.3337 - acc: 0.8591 - val_loss: 0.3912 - val_acc: 0.8365\n",
      "Epoch 11/30\n",
      "3357/3357 [==============================] - 5s 1ms/step - loss: 0.3245 - acc: 0.8627 - val_loss: 0.3918 - val_acc: 0.8365\n",
      "Epoch 12/30\n",
      "3357/3357 [==============================] - 5s 1ms/step - loss: 0.3176 - acc: 0.8677 - val_loss: 0.3911 - val_acc: 0.8391\n",
      "Epoch 13/30\n",
      "3357/3357 [==============================] - 5s 1ms/step - loss: 0.3156 - acc: 0.8700 - val_loss: 0.3868 - val_acc: 0.8284\n",
      "Epoch 14/30\n",
      "3357/3357 [==============================] - 5s 1ms/step - loss: 0.3073 - acc: 0.8713 - val_loss: 0.3930 - val_acc: 0.8338\n",
      "Epoch 15/30\n",
      "3357/3357 [==============================] - 5s 2ms/step - loss: 0.3089 - acc: 0.8697 - val_loss: 0.3894 - val_acc: 0.8244\n",
      "Epoch 16/30\n",
      "3357/3357 [==============================] - 5s 1ms/step - loss: 0.2994 - acc: 0.8727 - val_loss: 0.3962 - val_acc: 0.8365\n",
      "Epoch 17/30\n",
      "3357/3357 [==============================] - 5s 1ms/step - loss: 0.2891 - acc: 0.8797 - val_loss: 0.3904 - val_acc: 0.8244\n",
      "holding fold 9 out\n",
      "Train on 3358 samples, validate on 372 samples\n",
      "Epoch 1/30\n",
      "3358/3358 [==============================] - 4s 1ms/step - loss: 0.4670 - acc: 0.8087 - val_loss: 0.3966 - val_acc: 0.8441\n",
      "Epoch 2/30\n",
      "3358/3358 [==============================] - 5s 1ms/step - loss: 0.3897 - acc: 0.8435 - val_loss: 0.3677 - val_acc: 0.8441\n",
      "Epoch 3/30\n",
      "3358/3358 [==============================] - 5s 1ms/step - loss: 0.3784 - acc: 0.8480 - val_loss: 0.3618 - val_acc: 0.8414\n",
      "Epoch 4/30\n",
      "3358/3358 [==============================] - 5s 1ms/step - loss: 0.3709 - acc: 0.8504 - val_loss: 0.3503 - val_acc: 0.8602\n",
      "Epoch 5/30\n",
      "3358/3358 [==============================] - 5s 1ms/step - loss: 0.3711 - acc: 0.8463 - val_loss: 0.3512 - val_acc: 0.8441\n",
      "Epoch 6/30\n",
      "3358/3358 [==============================] - 5s 1ms/step - loss: 0.3599 - acc: 0.8541 - val_loss: 0.3390 - val_acc: 0.8575\n",
      "Epoch 7/30\n",
      "3358/3358 [==============================] - 5s 2ms/step - loss: 0.3515 - acc: 0.8533 - val_loss: 0.3385 - val_acc: 0.8616\n",
      "Epoch 8/30\n",
      "3358/3358 [==============================] - 5s 1ms/step - loss: 0.3528 - acc: 0.8526 - val_loss: 0.3324 - val_acc: 0.8562\n",
      "Epoch 9/30\n",
      "3358/3358 [==============================] - 5s 2ms/step - loss: 0.3447 - acc: 0.8535 - val_loss: 0.3237 - val_acc: 0.8575\n",
      "Epoch 10/30\n",
      "3358/3358 [==============================] - 5s 1ms/step - loss: 0.3429 - acc: 0.8554 - val_loss: 0.3256 - val_acc: 0.8589\n",
      "Epoch 11/30\n",
      "3358/3358 [==============================] - 5s 1ms/step - loss: 0.3399 - acc: 0.8587 - val_loss: 0.3235 - val_acc: 0.8575\n",
      "Epoch 12/30\n"
     ]
    },
    {
     "name": "stdout",
     "output_type": "stream",
     "text": [
      "3358/3358 [==============================] - 5s 1ms/step - loss: 0.3283 - acc: 0.8614 - val_loss: 0.3152 - val_acc: 0.8616\n",
      "Epoch 13/30\n",
      "3358/3358 [==============================] - 5s 1ms/step - loss: 0.3270 - acc: 0.8612 - val_loss: 0.3118 - val_acc: 0.8548\n",
      "Epoch 14/30\n",
      "3358/3358 [==============================] - 5s 1ms/step - loss: 0.3213 - acc: 0.8648 - val_loss: 0.3071 - val_acc: 0.8575\n",
      "Epoch 15/30\n",
      "3358/3358 [==============================] - 5s 1ms/step - loss: 0.3081 - acc: 0.8666 - val_loss: 0.3050 - val_acc: 0.8562\n",
      "Epoch 16/30\n",
      "3358/3358 [==============================] - 5s 1ms/step - loss: 0.3114 - acc: 0.8691 - val_loss: 0.3034 - val_acc: 0.8575\n",
      "Epoch 17/30\n",
      "3358/3358 [==============================] - 5s 1ms/step - loss: 0.3023 - acc: 0.8702 - val_loss: 0.3067 - val_acc: 0.8535\n",
      "Epoch 18/30\n",
      "3358/3358 [==============================] - 5s 1ms/step - loss: 0.3028 - acc: 0.8722 - val_loss: 0.3050 - val_acc: 0.8589\n",
      "Epoch 19/30\n",
      "3358/3358 [==============================] - 4s 1ms/step - loss: 0.2931 - acc: 0.8751 - val_loss: 0.3049 - val_acc: 0.8602\n",
      "Epoch 20/30\n",
      "3358/3358 [==============================] - 4s 1ms/step - loss: 0.2895 - acc: 0.8822 - val_loss: 0.3075 - val_acc: 0.8616\n",
      "holding fold 10 out\n",
      "Train on 3358 samples, validate on 372 samples\n",
      "Epoch 1/30\n",
      "3358/3358 [==============================] - 4s 1ms/step - loss: 0.4663 - acc: 0.8106 - val_loss: 0.3867 - val_acc: 0.8441\n",
      "Epoch 2/30\n",
      "3358/3358 [==============================] - 4s 1ms/step - loss: 0.3892 - acc: 0.8456 - val_loss: 0.3726 - val_acc: 0.8414\n",
      "Epoch 3/30\n",
      "3358/3358 [==============================] - 5s 1ms/step - loss: 0.3802 - acc: 0.8462 - val_loss: 0.3707 - val_acc: 0.8441\n",
      "Epoch 4/30\n",
      "3358/3358 [==============================] - 4s 1ms/step - loss: 0.3707 - acc: 0.8478 - val_loss: 0.3651 - val_acc: 0.8441\n",
      "Epoch 5/30\n",
      "3358/3358 [==============================] - 4s 1ms/step - loss: 0.3675 - acc: 0.8468 - val_loss: 0.3648 - val_acc: 0.8427\n",
      "Epoch 6/30\n",
      "3358/3358 [==============================] - 5s 1ms/step - loss: 0.3592 - acc: 0.8505 - val_loss: 0.3545 - val_acc: 0.8535\n",
      "Epoch 7/30\n",
      "3358/3358 [==============================] - 5s 1ms/step - loss: 0.3501 - acc: 0.8499 - val_loss: 0.3477 - val_acc: 0.8535\n",
      "Epoch 8/30\n",
      "3358/3358 [==============================] - 5s 1ms/step - loss: 0.3449 - acc: 0.8548 - val_loss: 0.3431 - val_acc: 0.8575\n",
      "Epoch 9/30\n",
      "3358/3358 [==============================] - 5s 1ms/step - loss: 0.3405 - acc: 0.8560 - val_loss: 0.3587 - val_acc: 0.8468\n",
      "Epoch 10/30\n",
      "3358/3358 [==============================] - 5s 1ms/step - loss: 0.3287 - acc: 0.8572 - val_loss: 0.3434 - val_acc: 0.8562\n",
      "Epoch 11/30\n",
      "3358/3358 [==============================] - 5s 2ms/step - loss: 0.3346 - acc: 0.8547 - val_loss: 0.3382 - val_acc: 0.8548\n",
      "Epoch 12/30\n",
      "3358/3358 [==============================] - 5s 1ms/step - loss: 0.3255 - acc: 0.8603 - val_loss: 0.3397 - val_acc: 0.8616\n",
      "Epoch 13/30\n",
      "3358/3358 [==============================] - 5s 1ms/step - loss: 0.3189 - acc: 0.8670 - val_loss: 0.3347 - val_acc: 0.8454\n",
      "Epoch 14/30\n",
      "3358/3358 [==============================] - 5s 1ms/step - loss: 0.3137 - acc: 0.8666 - val_loss: 0.3322 - val_acc: 0.8468\n",
      "Epoch 15/30\n",
      "3358/3358 [==============================] - 5s 1ms/step - loss: 0.3027 - acc: 0.8705 - val_loss: 0.3349 - val_acc: 0.8468\n",
      "Epoch 16/30\n",
      "3358/3358 [==============================] - 5s 2ms/step - loss: 0.3017 - acc: 0.8706 - val_loss: 0.3258 - val_acc: 0.8548\n",
      "Epoch 17/30\n",
      "3358/3358 [==============================] - 5s 2ms/step - loss: 0.3004 - acc: 0.8669 - val_loss: 0.3284 - val_acc: 0.8589\n",
      "Epoch 18/30\n",
      "3358/3358 [==============================] - 5s 2ms/step - loss: 0.2960 - acc: 0.8715 - val_loss: 0.3231 - val_acc: 0.8602\n",
      "Epoch 19/30\n",
      "3358/3358 [==============================] - 5s 1ms/step - loss: 0.2939 - acc: 0.8731 - val_loss: 0.3230 - val_acc: 0.8629\n",
      "Epoch 20/30\n",
      "3358/3358 [==============================] - 4s 1ms/step - loss: 0.2850 - acc: 0.8812 - val_loss: 0.3266 - val_acc: 0.8629\n",
      "Epoch 21/30\n",
      "3358/3358 [==============================] - 4s 1ms/step - loss: 0.2805 - acc: 0.8806 - val_loss: 0.3229 - val_acc: 0.8535\n",
      "Epoch 22/30\n",
      "3358/3358 [==============================] - 5s 2ms/step - loss: 0.2741 - acc: 0.8821 - val_loss: 0.3245 - val_acc: 0.8562\n",
      "Epoch 23/30\n",
      "3358/3358 [==============================] - 5s 2ms/step - loss: 0.2712 - acc: 0.8868 - val_loss: 0.3368 - val_acc: 0.8427\n",
      "Epoch 24/30\n",
      "3358/3358 [==============================] - 5s 1ms/step - loss: 0.2742 - acc: 0.8839 - val_loss: 0.3218 - val_acc: 0.8616\n",
      "Epoch 25/30\n",
      "3358/3358 [==============================] - 5s 1ms/step - loss: 0.2624 - acc: 0.8840 - val_loss: 0.3163 - val_acc: 0.8669\n",
      "Epoch 26/30\n",
      "3358/3358 [==============================] - 5s 2ms/step - loss: 0.2550 - acc: 0.8912 - val_loss: 0.3167 - val_acc: 0.8642\n",
      "Epoch 27/30\n",
      "3358/3358 [==============================] - 5s 2ms/step - loss: 0.2588 - acc: 0.8892 - val_loss: 0.3154 - val_acc: 0.8602\n",
      "Epoch 28/30\n",
      "3358/3358 [==============================] - 5s 1ms/step - loss: 0.2473 - acc: 0.8977 - val_loss: 0.3260 - val_acc: 0.8669\n",
      "Epoch 29/30\n",
      "3358/3358 [==============================] - 5s 1ms/step - loss: 0.2533 - acc: 0.8955 - val_loss: 0.3209 - val_acc: 0.8562\n",
      "Epoch 30/30\n",
      "3358/3358 [==============================] - 5s 2ms/step - loss: 0.2461 - acc: 0.8974 - val_loss: 0.3124 - val_acc: 0.8616\n"
     ]
    }
   ],
   "source": [
    "history_GRU_glove = train_model_cv(rnn_GRU_glove, X_train, y_train_int, y_train_ohe, X_test, y_test_ohe, folds=10, weights='GRU_glove_weights.model')"
   ]
  },
  {
   "cell_type": "code",
   "execution_count": 143,
   "metadata": {},
   "outputs": [
    {
     "data": {
      "image/png": "[encoded data removed]",
      "text/plain": [
       "<matplotlib.figure.Figure at 0x20cbe6f9e10>"
      ]
     },
     "metadata": {},
     "output_type": "display_data"
    }
   ],
   "source": [
    "plot_losses(rnn_GRU_glove, 'GRU_relu')"
   ]
  },
  {
   "cell_type": "markdown",
   "metadata": {},
   "source": [
    "The validation curve decreased acrossed epochs!"
   ]
  },
  {
   "cell_type": "code",
   "execution_count": 144,
   "metadata": {},
   "outputs": [
    {
     "data": {
      "text/plain": [
       "Ttest_indResult(statistic=2.482440069155482, pvalue=0.023136425968544053)"
      ]
     },
     "execution_count": 144,
     "metadata": {},
     "output_type": "execute_result"
    }
   ],
   "source": [
    "# two sample t test to compare the lstm to the gru\n",
    "ttest_ind(history_GRU[-2], history_GRU_glove[-2])"
   ]
  },
  {
   "cell_type": "markdown",
   "metadata": {},
   "source": [
    "accuracy compared"
   ]
  },
  {
   "cell_type": "code",
   "execution_count": 145,
   "metadata": {},
   "outputs": [
    {
     "data": {
      "text/plain": [
       "Ttest_indResult(statistic=14.960806830231306, pvalue=1.3466978955704133e-11)"
      ]
     },
     "execution_count": 145,
     "metadata": {},
     "output_type": "execute_result"
    }
   ],
   "source": [
    "# two sample t test to compare the lstm to the gru\n",
    "ttest_ind(history_GRU[-1], history_GRU_glove[-1])"
   ]
  },
  {
   "cell_type": "markdown",
   "metadata": {},
   "source": [
    "precision compared"
   ]
  },
  {
   "cell_type": "markdown",
   "metadata": {},
   "source": [
    "Both accuracy and precision were different when comparing the models via two sample ttest. "
   ]
  },
  {
   "cell_type": "code",
   "execution_count": 146,
   "metadata": {
    "collapsed": true
   },
   "outputs": [],
   "source": [
    "# create dataframe for comparing\n",
    "df=pd.DataFrame([history_GRU[-2], history_GRU_glove[-2]]).T\n",
    "df.columns = ['GRU','GRU_glove']"
   ]
  },
  {
   "cell_type": "code",
   "execution_count": 147,
   "metadata": {},
   "outputs": [
    {
     "data": {
      "text/plain": [
       "<matplotlib.axes._subplots.AxesSubplot at 0x20cbf476160>"
      ]
     },
     "execution_count": 147,
     "metadata": {},
     "output_type": "execute_result"
    },
    {
     "data": {
      "image/png": "[encoded data removed]",
      "text/plain": [
       "<matplotlib.figure.Figure at 0x20ccc8226d8>"
      ]
     },
     "metadata": {},
     "output_type": "display_data"
    }
   ],
   "source": [
    "df.boxplot(['GRU','GRU_glove'])"
   ]
  },
  {
   "cell_type": "code",
   "execution_count": 148,
   "metadata": {
    "collapsed": true
   },
   "outputs": [],
   "source": [
    "# create dataframe for comparing\n",
    "df=pd.DataFrame([history_GRU[-1], history_GRU_glove[-1]]).T\n",
    "df.columns = ['GRU','GRU_glove']"
   ]
  },
  {
   "cell_type": "code",
   "execution_count": 149,
   "metadata": {},
   "outputs": [
    {
     "data": {
      "text/plain": [
       "<matplotlib.axes._subplots.AxesSubplot at 0x20cbf4a7550>"
      ]
     },
     "execution_count": 149,
     "metadata": {},
     "output_type": "execute_result"
    },
    {
     "data": {
      "image/png": "[encoded data removed]",
      "text/plain": [
       "<matplotlib.figure.Figure at 0x20cbf446438>"
      ]
     },
     "metadata": {},
     "output_type": "display_data"
    }
   ],
   "source": [
    "df.boxplot(['GRU','GRU_glove'])"
   ]
  },
  {
   "cell_type": "markdown",
   "metadata": {},
   "source": [
    "Very intersting to find that the GRU model still outperformed the model using the glove embeddings."
   ]
  },
  {
   "cell_type": "markdown",
   "metadata": {},
   "source": [
    "* [20 points] Using the best RNN parameters and architecture, add a second recurrent chain to your RNN. The input to the second chain should be the output sequence of the first chain. Visualize the performance of training and validation sets versus the training iterations. "
   ]
  },
  {
   "cell_type": "markdown",
   "metadata": {},
   "source": [
    "## Stacked without pretrain"
   ]
  },
  {
   "cell_type": "code",
   "execution_count": 152,
   "metadata": {},
   "outputs": [
    {
     "name": "stdout",
     "output_type": "stream",
     "text": [
      "_________________________________________________________________\n",
      "Layer (type)                 Output Shape              Param #   \n",
      "=================================================================\n",
      "input_1 (InputLayer)         (None, 91)                0         \n",
      "_________________________________________________________________\n",
      "embedding_1 (Embedding)      (None, 91, 50)            391600    \n",
      "_________________________________________________________________\n",
      "simple_rnn_1 (SimpleRNN)     (None, 25)                1900      \n",
      "_________________________________________________________________\n",
      "dense_1 (Dense)              (None, 2)                 52        \n",
      "=================================================================\n",
      "Total params: 393,552\n",
      "Trainable params: 393,552\n",
      "Non-trainable params: 0\n",
      "_________________________________________________________________\n",
      "None\n"
     ]
    }
   ],
   "source": [
    "\n",
    "\n",
    "input_holder = Input(shape=(X_train.shape[1], ))\n",
    "embed = Embedding(top_words, # input dimension (max int of OHE)\n",
    "                EMBED_SIZE, # output dimension size\n",
    "                input_length=MAX_ART_LEN)(input_holder) # number of words in each sequence\n",
    "\n",
    "x = GRU(25, dropout=0.2, recurrent_dropout=0.2, return_sequences=True)(embed)\n",
    "x = GRU(25, dropout=0.2, recurrent_dropout=.2)(x)\n",
    "x = Dense(NUM_CLASSES, activation='sigmoid')(x)\n",
    "rnn_GRU_2_Layers=Model(inputs=input_holder,outputs=x)\n",
    "rnn_GRU_2_Layers.compile(loss='binary_crossentropy', \n",
    "                  optimizer='rmsprop', \n",
    "                  metrics=['accuracy'])\n",
    "rnn_GRU_2_Layers.save_weights('rnn_GRU_2_Layers.model')\n",
    "print(rnn.summary())"
   ]
  },
  {
   "cell_type": "code",
   "execution_count": 153,
   "metadata": {},
   "outputs": [
    {
     "name": "stdout",
     "output_type": "stream",
     "text": [
      "holding fold 1 out\n",
      "Train on 3356 samples, validate on 374 samples\n",
      "Epoch 1/30\n",
      "3356/3356 [==============================] - 13s 4ms/step - loss: 0.4248 - acc: 0.8415 - val_loss: 0.3566 - val_acc: 0.8422\n",
      "Epoch 2/30\n",
      "3356/3356 [==============================] - 10s 3ms/step - loss: 0.3248 - acc: 0.8625 - val_loss: 0.3256 - val_acc: 0.8529\n",
      "Epoch 3/30\n",
      "3356/3356 [==============================] - 10s 3ms/step - loss: 0.2621 - acc: 0.8966 - val_loss: 0.3227 - val_acc: 0.8503\n",
      "Epoch 4/30\n",
      "3356/3356 [==============================] - 10s 3ms/step - loss: 0.2228 - acc: 0.9118 - val_loss: 0.3415 - val_acc: 0.8476\n",
      "Epoch 5/30\n",
      "3356/3356 [==============================] - 10s 3ms/step - loss: 0.1788 - acc: 0.9289 - val_loss: 0.3430 - val_acc: 0.8556\n",
      "Epoch 6/30\n",
      "3356/3356 [==============================] - 10s 3ms/step - loss: 0.1484 - acc: 0.9431 - val_loss: 0.3708 - val_acc: 0.8650\n",
      "Epoch 7/30\n",
      "3356/3356 [==============================] - 11s 3ms/step - loss: 0.1252 - acc: 0.9522 - val_loss: 0.3782 - val_acc: 0.8583\n",
      "holding fold 2 out\n",
      "Train on 3356 samples, validate on 374 samples\n",
      "Epoch 1/30\n",
      "3356/3356 [==============================] - 11s 3ms/step - loss: 0.4793 - acc: 0.8406 - val_loss: 0.3782 - val_acc: 0.8422\n",
      "Epoch 2/30\n",
      "3356/3356 [==============================] - 10s 3ms/step - loss: 0.3266 - acc: 0.8620 - val_loss: 0.3596 - val_acc: 0.8503\n",
      "Epoch 3/30\n",
      "3356/3356 [==============================] - 10s 3ms/step - loss: 0.2563 - acc: 0.8976 - val_loss: 0.3738 - val_acc: 0.8409\n",
      "Epoch 4/30\n",
      "3356/3356 [==============================] - 10s 3ms/step - loss: 0.2112 - acc: 0.9163 - val_loss: 0.4038 - val_acc: 0.8209\n",
      "Epoch 5/30\n",
      "3356/3356 [==============================] - 10s 3ms/step - loss: 0.1752 - acc: 0.9312 - val_loss: 0.4310 - val_acc: 0.8262\n",
      "Epoch 6/30\n",
      "3356/3356 [==============================] - 10s 3ms/step - loss: 0.1417 - acc: 0.9482 - val_loss: 0.4537 - val_acc: 0.8356\n",
      "holding fold 3 out\n",
      "Train on 3357 samples, validate on 373 samples\n",
      "Epoch 1/30\n",
      "3357/3357 [==============================] - 10s 3ms/step - loss: 0.4701 - acc: 0.8374 - val_loss: 0.3544 - val_acc: 0.8445\n",
      "Epoch 2/30\n",
      "3357/3357 [==============================] - 11s 3ms/step - loss: 0.3300 - acc: 0.8603 - val_loss: 0.3398 - val_acc: 0.8579\n",
      "Epoch 3/30\n",
      "3357/3357 [==============================] - 10s 3ms/step - loss: 0.2640 - acc: 0.8938 - val_loss: 0.3503 - val_acc: 0.8592\n",
      "Epoch 4/30\n",
      "3357/3357 [==============================] - 10s 3ms/step - loss: 0.2193 - acc: 0.9111 - val_loss: 0.3495 - val_acc: 0.8445\n",
      "Epoch 5/30\n",
      "3357/3357 [==============================] - 10s 3ms/step - loss: 0.1797 - acc: 0.9301 - val_loss: 0.3732 - val_acc: 0.8539\n",
      "Epoch 6/30\n",
      "3357/3357 [==============================] - 10s 3ms/step - loss: 0.1459 - acc: 0.9471 - val_loss: 0.4145 - val_acc: 0.8512\n",
      "holding fold 4 out\n",
      "Train on 3357 samples, validate on 373 samples\n",
      "Epoch 1/30\n",
      "3357/3357 [==============================] - 10s 3ms/step - loss: 0.4629 - acc: 0.8399 - val_loss: 0.3587 - val_acc: 0.8445\n",
      "Epoch 2/30\n",
      "3357/3357 [==============================] - 10s 3ms/step - loss: 0.3276 - acc: 0.8595 - val_loss: 0.3283 - val_acc: 0.8633\n",
      "Epoch 3/30\n",
      "3357/3357 [==============================] - 10s 3ms/step - loss: 0.2645 - acc: 0.8925 - val_loss: 0.3254 - val_acc: 0.8727\n",
      "Epoch 4/30\n",
      "3357/3357 [==============================] - 11s 3ms/step - loss: 0.2134 - acc: 0.9173 - val_loss: 0.3381 - val_acc: 0.8740\n",
      "Epoch 5/30\n",
      "3357/3357 [==============================] - 11s 3ms/step - loss: 0.1763 - acc: 0.9345 - val_loss: 0.3541 - val_acc: 0.8633\n",
      "Epoch 6/30\n",
      "3357/3357 [==============================] - 10s 3ms/step - loss: 0.1455 - acc: 0.9471 - val_loss: 0.3749 - val_acc: 0.8525\n",
      "Epoch 7/30\n",
      "3357/3357 [==============================] - 10s 3ms/step - loss: 0.1232 - acc: 0.9558 - val_loss: 0.3944 - val_acc: 0.8686\n",
      "holding fold 5 out\n",
      "Train on 3357 samples, validate on 373 samples\n",
      "Epoch 1/30\n",
      "3357/3357 [==============================] - 10s 3ms/step - loss: 0.4731 - acc: 0.8387 - val_loss: 0.3666 - val_acc: 0.8445\n",
      "Epoch 2/30\n",
      "3357/3357 [==============================] - 10s 3ms/step - loss: 0.3211 - acc: 0.8643 - val_loss: 0.3370 - val_acc: 0.8619\n",
      "Epoch 3/30\n",
      "3357/3357 [==============================] - 10s 3ms/step - loss: 0.2583 - acc: 0.8969 - val_loss: 0.3446 - val_acc: 0.8566\n",
      "Epoch 4/30\n",
      "3357/3357 [==============================] - 11s 3ms/step - loss: 0.2139 - acc: 0.9176 - val_loss: 0.3683 - val_acc: 0.8566\n",
      "Epoch 5/30\n",
      "3357/3357 [==============================] - 11s 3ms/step - loss: 0.1775 - acc: 0.9343 - val_loss: 0.3879 - val_acc: 0.8512\n",
      "Epoch 6/30\n",
      "3357/3357 [==============================] - 11s 3ms/step - loss: 0.1428 - acc: 0.9438 - val_loss: 0.4353 - val_acc: 0.8257\n",
      "holding fold 6 out\n",
      "Train on 3357 samples, validate on 373 samples\n",
      "Epoch 1/30\n",
      "3357/3357 [==============================] - 10s 3ms/step - loss: 0.4692 - acc: 0.8390 - val_loss: 0.3703 - val_acc: 0.8445\n",
      "Epoch 2/30\n",
      "3357/3357 [==============================] - 10s 3ms/step - loss: 0.3193 - acc: 0.8654 - val_loss: 0.3586 - val_acc: 0.8485\n",
      "Epoch 3/30\n",
      "3357/3357 [==============================] - 11s 3ms/step - loss: 0.2586 - acc: 0.8948 - val_loss: 0.3826 - val_acc: 0.8445\n",
      "Epoch 4/30\n",
      "3357/3357 [==============================] - 11s 3ms/step - loss: 0.2045 - acc: 0.9205 - val_loss: 0.4326 - val_acc: 0.8365\n",
      "Epoch 5/30\n",
      "3357/3357 [==============================] - 10s 3ms/step - loss: 0.1682 - acc: 0.9397 - val_loss: 0.4768 - val_acc: 0.8552\n",
      "Epoch 6/30\n",
      "3357/3357 [==============================] - 10s 3ms/step - loss: 0.1394 - acc: 0.9462 - val_loss: 0.4845 - val_acc: 0.8365\n",
      "holding fold 7 out\n",
      "Train on 3357 samples, validate on 373 samples\n",
      "Epoch 1/30\n",
      "3357/3357 [==============================] - 10s 3ms/step - loss: 0.4729 - acc: 0.8397 - val_loss: 0.3858 - val_acc: 0.8445\n",
      "Epoch 2/30\n",
      "3357/3357 [==============================] - 11s 3ms/step - loss: 0.3194 - acc: 0.8607 - val_loss: 0.3917 - val_acc: 0.8257\n",
      "Epoch 3/30\n",
      "3357/3357 [==============================] - 11s 3ms/step - loss: 0.2566 - acc: 0.8998 - val_loss: 0.3940 - val_acc: 0.8311\n",
      "Epoch 4/30\n",
      "3357/3357 [==============================] - 11s 3ms/step - loss: 0.2059 - acc: 0.9236 - val_loss: 0.4231 - val_acc: 0.8271\n",
      "Epoch 5/30\n",
      "3357/3357 [==============================] - 11s 3ms/step - loss: 0.1682 - acc: 0.9371 - val_loss: 0.4551 - val_acc: 0.8257\n",
      "holding fold 8 out\n",
      "Train on 3357 samples, validate on 373 samples\n",
      "Epoch 1/30\n",
      "3357/3357 [==============================] - 11s 3ms/step - loss: 0.4698 - acc: 0.8394 - val_loss: 0.3692 - val_acc: 0.8445\n",
      "Epoch 2/30\n",
      "3357/3357 [==============================] - 11s 3ms/step - loss: 0.3311 - acc: 0.8578 - val_loss: 0.3329 - val_acc: 0.8673\n",
      "Epoch 3/30\n",
      "3357/3357 [==============================] - 12s 3ms/step - loss: 0.2628 - acc: 0.8972 - val_loss: 0.3464 - val_acc: 0.8499\n",
      "Epoch 4/30\n",
      "3357/3357 [==============================] - 12s 4ms/step - loss: 0.2164 - acc: 0.9155 - val_loss: 0.3457 - val_acc: 0.8552\n",
      "Epoch 5/30\n",
      "3357/3357 [==============================] - 12s 3ms/step - loss: 0.1779 - acc: 0.9337 - val_loss: 0.3585 - val_acc: 0.8646\n",
      "Epoch 6/30\n",
      "3357/3357 [==============================] - 9s 3ms/step - loss: 0.1464 - acc: 0.9480 - val_loss: 0.4038 - val_acc: 0.8177\n",
      "holding fold 9 out\n",
      "Train on 3358 samples, validate on 372 samples\n",
      "Epoch 1/30\n",
      "3358/3358 [==============================] - 9s 3ms/step - loss: 0.4735 - acc: 0.8399 - val_loss: 0.3608 - val_acc: 0.8441\n",
      "Epoch 2/30\n",
      "3358/3358 [==============================] - 10s 3ms/step - loss: 0.3298 - acc: 0.8603 - val_loss: 0.3356 - val_acc: 0.8535\n",
      "Epoch 3/30\n",
      "3358/3358 [==============================] - 9s 3ms/step - loss: 0.2690 - acc: 0.8897 - val_loss: 0.3449 - val_acc: 0.8347\n",
      "Epoch 4/30\n",
      "3358/3358 [==============================] - 9s 3ms/step - loss: 0.2169 - acc: 0.9171 - val_loss: 0.3851 - val_acc: 0.8306\n",
      "Epoch 5/30\n",
      "3358/3358 [==============================] - 9s 3ms/step - loss: 0.1827 - acc: 0.9340 - val_loss: 0.4230 - val_acc: 0.8226\n",
      "Epoch 6/30\n",
      "3358/3358 [==============================] - 11s 3ms/step - loss: 0.1511 - acc: 0.9467 - val_loss: 0.4767 - val_acc: 0.8306\n",
      "holding fold 10 out\n",
      "Train on 3358 samples, validate on 372 samples\n",
      "Epoch 1/30\n",
      "3358/3358 [==============================] - 10s 3ms/step - loss: 0.4706 - acc: 0.8411 - val_loss: 0.3662 - val_acc: 0.8441\n"
     ]
    },
    {
     "name": "stdout",
     "output_type": "stream",
     "text": [
      "Epoch 2/30\n",
      "3358/3358 [==============================] - 9s 3ms/step - loss: 0.3218 - acc: 0.8626 - val_loss: 0.3509 - val_acc: 0.8522\n",
      "Epoch 3/30\n",
      "3358/3358 [==============================] - 10s 3ms/step - loss: 0.2574 - acc: 0.8961 - val_loss: 0.3687 - val_acc: 0.8293\n",
      "Epoch 4/30\n",
      "3358/3358 [==============================] - 10s 3ms/step - loss: 0.2075 - acc: 0.9215 - val_loss: 0.4236 - val_acc: 0.8441\n",
      "Epoch 5/30\n",
      "3358/3358 [==============================] - 10s 3ms/step - loss: 0.1724 - acc: 0.9328 - val_loss: 0.4310 - val_acc: 0.8441\n",
      "Epoch 6/30\n",
      "3358/3358 [==============================] - 12s 4ms/step - loss: 0.1400 - acc: 0.9483 - val_loss: 0.4671 - val_acc: 0.8199\n"
     ]
    }
   ],
   "source": [
    "history_GRU_2_Layers = train_model_cv(rnn_GRU_2_Layers, X_train, y_train_int, y_train_ohe, X_test, y_test_ohe, folds=10, weights='rnn_GRU_2_Layers.model')"
   ]
  },
  {
   "cell_type": "code",
   "execution_count": 154,
   "metadata": {},
   "outputs": [
    {
     "data": {
      "image/png": "[encoded data removed]",
      "text/plain": [
       "<matplotlib.figure.Figure at 0x20cbf49f0b8>"
      ]
     },
     "metadata": {},
     "output_type": "display_data"
    }
   ],
   "source": [
    "plot_losses(rnn_GRU_2_Layers, '2 GRU Layers')"
   ]
  },
  {
   "cell_type": "markdown",
   "metadata": {},
   "source": [
    "Training and Validation loss plot for last iteration."
   ]
  },
  {
   "cell_type": "code",
   "execution_count": 156,
   "metadata": {},
   "outputs": [
    {
     "data": {
      "text/plain": [
       "Ttest_indResult(statistic=0.599342645653061, pvalue=0.5564138121763389)"
      ]
     },
     "execution_count": 156,
     "metadata": {},
     "output_type": "execute_result"
    }
   ],
   "source": [
    "# two sample t test to compare the lstm to the gru\n",
    "ttest_ind(history_GRU[-2], history_GRU_2_Layers[-2])"
   ]
  },
  {
   "cell_type": "markdown",
   "metadata": {},
   "source": [
    "Accuracy compared via two sample ttest"
   ]
  },
  {
   "cell_type": "code",
   "execution_count": 158,
   "metadata": {},
   "outputs": [
    {
     "data": {
      "text/plain": [
       "Ttest_indResult(statistic=1.2159344613691871, pvalue=0.2397164185682384)"
      ]
     },
     "execution_count": 158,
     "metadata": {},
     "output_type": "execute_result"
    }
   ],
   "source": [
    "# two sample t test to compare the lstm to the gru\n",
    "ttest_ind(history_GRU[-1], history_GRU_2_Layers[-1])"
   ]
  },
  {
   "cell_type": "markdown",
   "metadata": {},
   "source": [
    "Precision compared via two sample ttest"
   ]
  },
  {
   "cell_type": "markdown",
   "metadata": {},
   "source": [
    "The additional recurrent layer did not add benefit"
   ]
  },
  {
   "cell_type": "code",
   "execution_count": 160,
   "metadata": {
    "collapsed": true
   },
   "outputs": [],
   "source": [
    "# create dataframe for comparing\n",
    "df=pd.DataFrame([history_GRU[-2], history_GRU_2_Layers[-2]]).T\n",
    "df.columns = ['GRU','GRU_2_layers']"
   ]
  },
  {
   "cell_type": "code",
   "execution_count": 162,
   "metadata": {},
   "outputs": [
    {
     "data": {
      "text/plain": [
       "<matplotlib.axes._subplots.AxesSubplot at 0x20cd25ac748>"
      ]
     },
     "execution_count": 162,
     "metadata": {},
     "output_type": "execute_result"
    },
    {
     "data": {
      "image/png": "[encoded data removed]",
      "text/plain": [
       "<matplotlib.figure.Figure at 0x20cd2581240>"
      ]
     },
     "metadata": {},
     "output_type": "display_data"
    }
   ],
   "source": [
    "df.boxplot(['GRU','GRU_2_layers'])"
   ]
  },
  {
   "cell_type": "markdown",
   "metadata": {},
   "source": [
    "accuracy compared"
   ]
  },
  {
   "cell_type": "code",
   "execution_count": 163,
   "metadata": {
    "collapsed": true
   },
   "outputs": [],
   "source": [
    "# create dataframe for comparing\n",
    "df=pd.DataFrame([history_GRU[-1], history_GRU_2_Layers[-1]]).T\n",
    "df.columns = ['GRU','GRU_2_layers']"
   ]
  },
  {
   "cell_type": "code",
   "execution_count": 164,
   "metadata": {},
   "outputs": [
    {
     "data": {
      "text/plain": [
       "<matplotlib.axes._subplots.AxesSubplot at 0x20cd5d40908>"
      ]
     },
     "execution_count": 164,
     "metadata": {},
     "output_type": "execute_result"
    },
    {
     "data": {
      "image/png": "[encoded data removed]",
      "text/plain": [
       "<matplotlib.figure.Figure at 0x20cd5d94c88>"
      ]
     },
     "metadata": {},
     "output_type": "display_data"
    }
   ],
   "source": [
    "df.boxplot(['GRU','GRU_2_layers'])"
   ]
  },
  {
   "cell_type": "markdown",
   "metadata": {},
   "source": [
    "precision compared"
   ]
  },
  {
   "cell_type": "markdown",
   "metadata": {},
   "source": [
    "After attempting to use different recurrent layers, tune parameters, use pretrained embeddings, and adding layers the team was not able to see any improvement in the results. The original GRU architecture will be trained on the entire dataset, and performance will be evaluated."
   ]
  },
  {
   "cell_type": "markdown",
   "metadata": {},
   "source": [
    "* [20 points] Use the method of cross validation and evaluation criteria that you argued for at the beginning of the lab. Visualize the results of all the RNNs you trained.  Use proper statistical comparison techniques to determine which method(s) is (are) superior.  "
   ]
  },
  {
   "cell_type": "markdown",
   "metadata": {},
   "source": [
    "Cross validation of this model was already used to find the values for the initial model. These results as well as the results from the comparison models can be seen above. This last fit was performed to discuss the performance of the model."
   ]
  },
  {
   "cell_type": "code",
   "execution_count": 174,
   "metadata": {},
   "outputs": [
    {
     "name": "stdout",
     "output_type": "stream",
     "text": [
      "_________________________________________________________________\n",
      "Layer (type)                 Output Shape              Param #   \n",
      "=================================================================\n",
      "input_13 (InputLayer)        (None, 91)                0         \n",
      "_________________________________________________________________\n",
      "embedding_15 (Embedding)     (None, 91, 50)            391600    \n",
      "_________________________________________________________________\n",
      "gru_13 (GRU)                 (None, 25)                5700      \n",
      "_________________________________________________________________\n",
      "dense_15 (Dense)             (None, 2)                 52        \n",
      "=================================================================\n",
      "Total params: 397,352\n",
      "Trainable params: 397,352\n",
      "Non-trainable params: 0\n",
      "_________________________________________________________________\n",
      "None\n"
     ]
    }
   ],
   "source": [
    "EMBED_SIZE=50\n",
    "\n",
    "input_holder = Input(shape=(X_train.shape[1], ))\n",
    "input_embed = Embedding(top_words, # input dimension (max int of OHE)\n",
    "                EMBED_SIZE, # output dimension size\n",
    "                input_length=MAX_ART_LEN)(input_holder) # number of words in each sequence\n",
    "\n",
    "\n",
    "x = GRU(25,dropout=0.2, recurrent_dropout=0.2)(input_embed)\n",
    "x = Dense(NUM_CLASSES, activation='sigmoid')(x)\n",
    "rnn_GRU=Model(inputs=input_holder,outputs=x)\n",
    "rnn_GRU.compile(loss='binary_crossentropy', \n",
    "              optimizer='rmsprop', \n",
    "              metrics=['accuracy'])\n",
    "rnn_GRU.load_weights('GRU_weights.model')\n",
    "print(rnn_GRU.summary())"
   ]
  },
  {
   "cell_type": "code",
   "execution_count": 175,
   "metadata": {},
   "outputs": [
    {
     "name": "stdout",
     "output_type": "stream",
     "text": [
      "Train on 3730 samples, validate on 933 samples\n",
      "Epoch 1/3\n",
      "3730/3730 [==============================] - 11s 3ms/step - loss: 0.4217 - acc: 0.8420 - val_loss: 0.3656 - val_acc: 0.8446\n",
      "Epoch 2/3\n",
      "3730/3730 [==============================] - 9s 2ms/step - loss: 0.3370 - acc: 0.8527 - val_loss: 0.3464 - val_acc: 0.8623\n",
      "Epoch 3/3\n",
      "3730/3730 [==============================] - 9s 2ms/step - loss: 0.2909 - acc: 0.8777 - val_loss: 0.3340 - val_acc: 0.8676936\n"
     ]
    },
    {
     "data": {
      "text/plain": [
       "<keras.callbacks.History at 0x20cd8e8ecf8>"
      ]
     },
     "execution_count": 175,
     "metadata": {},
     "output_type": "execute_result"
    }
   ],
   "source": [
    "rnn_GRU.fit(X_train, y_train_ohe, validation_data=(X_test, y_test_ohe), epochs=3, batch_size=24)"
   ]
  },
  {
   "cell_type": "code",
   "execution_count": 176,
   "metadata": {},
   "outputs": [
    {
     "data": {
      "image/png": "[encoded data removed]",
      "text/plain": [
       "<matplotlib.figure.Figure at 0x20cd8e8eef0>"
      ]
     },
     "metadata": {},
     "output_type": "display_data"
    }
   ],
   "source": [
    "plot_losses(rnn_GRU, '2 GRU Layers')"
   ]
  },
  {
   "cell_type": "markdown",
   "metadata": {},
   "source": [
    "Three epochs were selected via inspection of the loss curves."
   ]
  },
  {
   "cell_type": "code",
   "execution_count": 177,
   "metadata": {},
   "outputs": [
    {
     "data": {
      "image/png": "[encoded data removed]",
      "text/plain": [
       "<matplotlib.figure.Figure at 0x20cdbcd28d0>"
      ]
     },
     "metadata": {},
     "output_type": "display_data"
    }
   ],
   "source": [
    "# confusion matrix\n",
    "summarize_net(rnn_GRU, X_test, y_test_ohe.argmax(1), title_text = 'After fitting the three RNN')"
   ]
  },
  {
   "cell_type": "markdown",
   "metadata": {},
   "source": [
    "The final model found 93 negative tweets as positive. These results gave a precision of 88%. The overall accuracy of the model was 86.8%. This was ~2% improvement on the prior probability. Given the precision and overall accuracy it does not appear that the model would be viable for the business case described above. Our hypothesis given inspection of the tweets was that the team who assigned the sentiment did not create a predictive dataset. Given the size of the tweets and the inconsistency of the sentiment scores the dataset is not very predictive. Potenitally additional tweets containing the word claritin could improve the model, but this is only if the sentiment scores are applied consistently."
   ]
  }
 ],
 "metadata": {
  "kernelspec": {
   "display_name": "Python 3",
   "language": "python",
   "name": "python3"
  },
  "language_info": {
   "codemirror_mode": {
    "name": "ipython",
    "version": 3
   },
   "file_extension": ".py",
   "mimetype": "text/x-python",
   "name": "python",
   "nbconvert_exporter": "python",
   "pygments_lexer": "ipython3",
   "version": "3.6.6"
  }
 },
 "nbformat": 4,
 "nbformat_minor": 2
}
